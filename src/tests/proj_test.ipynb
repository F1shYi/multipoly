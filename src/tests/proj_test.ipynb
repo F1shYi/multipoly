{
 "cells": [
  {
   "cell_type": "code",
   "execution_count": 25,
   "metadata": {},
   "outputs": [
    {
     "name": "stdout",
     "output_type": "stream",
     "text": [
      "[Sequential(\n",
      "  (0): Linear(in_features=1, out_features=2, bias=True)\n",
      "  (1): SiLU()\n",
      "  (2): Linear(in_features=1, out_features=2, bias=True)\n",
      "), Sequential(\n",
      "  (0): Linear(in_features=1, out_features=2, bias=True)\n",
      "  (1): SiLU()\n",
      "  (2): Linear(in_features=1, out_features=2, bias=True)\n",
      "), Sequential(\n",
      "  (0): Linear(in_features=1, out_features=2, bias=True)\n",
      "  (1): SiLU()\n",
      "  (2): Linear(in_features=1, out_features=2, bias=True)\n",
      ")]\n"
     ]
    }
   ],
   "source": [
    "import torch\n",
    "import torch.nn as nn\n",
    "import torch.nn.functional as F\n",
    "\n",
    "\n",
    "time_embeds = [\n",
    "            nn.Sequential(\n",
    "                nn.Linear(1, 2),\n",
    "                nn.SiLU(),\n",
    "                nn.Linear(1, 2),\n",
    "            )\n",
    "            \n",
    "        ] * 3\n",
    "\n",
    "print(time_embeds)"
   ]
  },
  {
   "cell_type": "code",
   "execution_count": 28,
   "metadata": {},
   "outputs": [
    {
     "name": "stdout",
     "output_type": "stream",
     "text": [
      "[[array([0., 0., 0.]), array([1., 1., 1.]), array([2., 2., 2.])], [array([0., 0., 0.]), array([1., 1., 1.]), array([2., 2., 2.])], [array([0., 0., 0.]), array([1., 1., 1.]), array([2., 2., 2.])]]\n",
      "[[array([0., 0., 0.]), array([3., 3., 3.]), array([2., 2., 2.])], [array([0., 0., 0.]), array([3., 3., 3.]), array([2., 2., 2.])], [array([0., 0., 0.]), array([3., 3., 3.]), array([2., 2., 2.])]]\n"
     ]
    }
   ],
   "source": [
    "import numpy as np\n",
    "a = np.zeros(3)\n",
    "b = np.ones(3)\n",
    "c = b + 1\n",
    "\n",
    "list_1 = [a,b,c]\n",
    "list = [list_1] * 3\n",
    "print(list)\n",
    "list[0][1] += 2\n",
    "print(list)"
   ]
  },
  {
   "cell_type": "code",
   "execution_count": 21,
   "metadata": {},
   "outputs": [],
   "source": [
    "class Proj(nn.Module):\n",
    "    '''\n",
    "    Project input `[batch_size, in_channels, width, height]`\n",
    "    to output `[batch_size, out_channels, width, height]`\n",
    "    '''\n",
    "    def __init__(self, in_channels, out_channels, channels):\n",
    "        super().__init__()\n",
    "        self.in_conv = nn.Conv2d(in_channels, channels, kernel_size=3, padding=1)\n",
    "        self.convs = nn.Sequential(\n",
    "            nn.Conv2d(channels, 4*channels, kernel_size=3, padding=1),\n",
    "            nn.Tanh(),\n",
    "            nn.Conv2d(4*channels, channels, kernel_size=3, padding=1),\n",
    "        )\n",
    "        self.out_conv = nn.Conv2d(channels, out_channels, kernel_size=3, padding=1)\n",
    "        self.skip_conv = nn.Conv2d(in_channels, out_channels, kernel_size=3, padding=1)\n",
    "\n",
    "    def forward(self, x):\n",
    "        '''\n",
    "        x: `[batch_size, track_num, multitrack_in_channels, width, height]`\n",
    "\n",
    "        returns:\n",
    "        `[batch_size, drum_channels, width, height]`\n",
    "        '''\n",
    "        \n",
    "        h = F.tanh(self.in_conv(x))\n",
    "        h = h + self.convs(h)\n",
    "        h = F.tanh(self.out_conv(h))\n",
    "        h = F.tanh(h + self.skip_conv(x))\n",
    "        return h\n",
    "    \n",
    "    \n"
   ]
  },
  {
   "cell_type": "code",
   "execution_count": 22,
   "metadata": {},
   "outputs": [
    {
     "name": "stdout",
     "output_type": "stream",
     "text": [
      "torch.Size([2, 1, 32, 32])\n"
     ]
    }
   ],
   "source": [
    "\n",
    "m_to_d_proj = Proj(\n",
    "    in_channels=track_num*multitrack_in_channels,\n",
    "    out_channels=drum_channels,\n",
    "    channels=channels,\n",
    ")\n",
    "print(m_to_d_proj(m_t).shape)"
   ]
  }
 ],
 "metadata": {
  "kernelspec": {
   "display_name": "music",
   "language": "python",
   "name": "python3"
  },
  "language_info": {
   "codemirror_mode": {
    "name": "ipython",
    "version": 3
   },
   "file_extension": ".py",
   "mimetype": "text/x-python",
   "name": "python",
   "nbconvert_exporter": "python",
   "pygments_lexer": "ipython3",
   "version": "3.10.15"
  }
 },
 "nbformat": 4,
 "nbformat_minor": 2
}
