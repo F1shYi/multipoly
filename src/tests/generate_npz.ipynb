{
 "cells": [
  {
   "cell_type": "code",
   "execution_count": 1,
   "metadata": {},
   "outputs": [],
   "source": [
    "import os\n",
    "import torch\n",
    "import yaml\n",
    "import sys\n",
    "\n",
    "MULTIPOLY_FOLDER = os.path.dirname(os.path.dirname(os.getcwd()))\n",
    "\n",
    "sys.path.append(MULTIPOLY_FOLDER)\n"
   ]
  },
  {
   "cell_type": "code",
   "execution_count": 2,
   "metadata": {},
   "outputs": [
    {
     "name": "stderr",
     "output_type": "stream",
     "text": [
      "/root/miniconda3/envs/poly/lib/python3.10/site-packages/pydub/utils.py:170: RuntimeWarning: Couldn't find ffmpeg or avconv - defaulting to ffmpeg, but may not work\n",
      "  warn(\"Couldn't find ffmpeg or avconv - defaulting to ffmpeg, but may not work\", RuntimeWarning)\n"
     ]
    }
   ],
   "source": [
    "from src.data.utils import midi_to_npz, chd_to_midi_file\n"
   ]
  },
  {
   "cell_type": "code",
   "execution_count": 3,
   "metadata": {},
   "outputs": [],
   "source": [
    "npz_dict = midi_to_npz(\"test_data/0.mid\",\"test_data/0.out\")"
   ]
  },
  {
   "cell_type": "code",
   "execution_count": 4,
   "metadata": {},
   "outputs": [
    {
     "name": "stdout",
     "output_type": "stream",
     "text": [
      "[   0   16   32   48   64   80   96  112  128  144  160  176  192  208\n",
      "  224  240  256  272  288  304  320  336  352  368  384  400  416  432\n",
      "  448  464  480  496  512  528  544  560  576  592  608  624  640  656\n",
      "  672  688  704  720  736  752  768  784  800  816  832  848  864  880\n",
      "  896  912  928  944  960  976  992 1008 1024 1040 1056 1072 1088 1104\n",
      " 1120 1136 1152 1168 1184 1200 1216 1232 1248 1264 1280 1296 1312 1328\n",
      " 1344 1360 1376 1392 1408 1424 1440 1456 1472 1488 1504 1520 1536 1552\n",
      " 1568 1584 1600 1616 1632 1648 1664 1680 1696 1712 1728 1744 1760 1776\n",
      " 1792 1808 1824]\n"
     ]
    }
   ],
   "source": [
    "print(npz_dict[\"db_pos\"])\n"
   ]
  },
  {
   "cell_type": "code",
   "execution_count": 5,
   "metadata": {},
   "outputs": [],
   "source": [
    "import numpy as np\n",
    "from tqdm import tqdm\n",
    "\n",
    "np.savez(\"test_data/0.npz\",**npz_dict)"
   ]
  },
  {
   "cell_type": "code",
   "execution_count": 6,
   "metadata": {},
   "outputs": [],
   "source": [
    "npz_file = np.load(\"test_data/0.npz\")"
   ]
  },
  {
   "cell_type": "code",
   "execution_count": 7,
   "metadata": {},
   "outputs": [
    {
     "name": "stdout",
     "output_type": "stream",
     "text": [
      "(115,)\n"
     ]
    }
   ],
   "source": [
    "print(npz_file[\"db_pos_filter\"].shape)"
   ]
  },
  {
   "cell_type": "code",
   "execution_count": null,
   "metadata": {},
   "outputs": [
    {
     "name": "stdout",
     "output_type": "stream",
     "text": [
      "(457, 36)\n"
     ]
    }
   ],
   "source": [
    "chord = npz_file[\"chord\"]\n",
    "print(chord.shape)\n",
    "chd_to_midi_file(chord,\"test_data/chord_recon.mid\")\n",
    "\n"
   ]
  },
  {
   "cell_type": "code",
   "execution_count": null,
   "metadata": {},
   "outputs": [
    {
     "name": "stdout",
     "output_type": "stream",
     "text": [
      "[[  16   57    1    1]\n",
      " [  16   69    1    3]\n",
      " [  18   57    1    1]\n",
      " ...\n",
      " [1824   57    2    3]\n",
      " [1824   69    1    3]\n",
      " [1824   81    1    3]]\n"
     ]
    }
   ],
   "source": [
    "notes = npz_file[\"notes\"]\n",
    "print(notes) #onset pitch duration track"
   ]
  },
  {
   "cell_type": "code",
   "execution_count": 11,
   "metadata": {},
   "outputs": [],
   "source": [
    "import muspy\n",
    "tracks = [muspy.Track(24),muspy.Track(36),muspy.Track(0),muspy.Track(48)]\n",
    "\n",
    "for note in notes:\n",
    "    curr_note = muspy.Note(note[0],note[1],note[2])\n",
    "    tracks[note[3]].notes.append(curr_note)\n",
    "music = muspy.Music(resolution=4,tempos=[muspy.Tempo(0,120)],time_signatures=[muspy.TimeSignature(0,4,4)])\n",
    "music.tracks = tracks\n",
    "music.write_midi(\"test_data/recon.mid\")"
   ]
  },
  {
   "cell_type": "code",
   "execution_count": null,
   "metadata": {},
   "outputs": [],
   "source": [
    "npz_dict = midi_to_npz(\"test_data/0.mid\",\"test_data/0.out\")\n",
    "np.savez(\"test_data/0.npz\",**npz_dict)\n",
    "os.remove(\"test_data/0.out\")"
   ]
  },
  {
   "cell_type": "code",
   "execution_count": null,
   "metadata": {},
   "outputs": [
    {
     "name": "stderr",
     "output_type": "stream",
     "text": [
      "  0%|          | 0/21611 [00:00<?, ?it/s]"
     ]
    },
    {
     "name": "stderr",
     "output_type": "stream",
     "text": [
      "100%|██████████| 21611/21611 [2:04:23<00:00,  2.90it/s]  "
     ]
    },
    {
     "name": "stdout",
     "output_type": "stream",
     "text": [
      "[186, 1424, 1807, 1822, 2242, 2297, 3387, 3524, 4683, 5181, 5264, 5770, 5799, 6691, 6696, 6753, 7706, 8580, 9733, 9942, 10373, 10844, 11100, 11127, 12968, 13310, 13670, 13889, 14635, 14841, 14844, 15280, 15754, 16071, 16422, 16445, 16468, 16600, 16912, 17063, 17169, 17957, 18500, 18507, 20103, 20467, 21425, 21426, 21427, 21428, 21429, 21430, 21431, 21432, 21433, 21434, 21435, 21436, 21437, 21438, 21439, 21440, 21441, 21442, 21443, 21444, 21445, 21446, 21447, 21448, 21449, 21450, 21451, 21452, 21453, 21454, 21455, 21456, 21457, 21458, 21459, 21460, 21461, 21462, 21463, 21464, 21465, 21466, 21467, 21468, 21469, 21470, 21471, 21472, 21473, 21474, 21475, 21476, 21477, 21478, 21479, 21480, 21481, 21482, 21483, 21484, 21485, 21486, 21487, 21488, 21489, 21490, 21491, 21492, 21493, 21494, 21495, 21496, 21497, 21498, 21499, 21500, 21501, 21502, 21503, 21504, 21505, 21506, 21507, 21508, 21509, 21510, 21511, 21512, 21513, 21514, 21515, 21516, 21517, 21518, 21519, 21520, 21521, 21522, 21523, 21524, 21525, 21526, 21527, 21528, 21529, 21530, 21531, 21532, 21533, 21534, 21535, 21536, 21537, 21538, 21539, 21540, 21541, 21542, 21543, 21544, 21545, 21546, 21547, 21548, 21549, 21550, 21551, 21552, 21553, 21554, 21555, 21556, 21557, 21558, 21559, 21560, 21561, 21562, 21563, 21564, 21565, 21566, 21567, 21568, 21569, 21570, 21571, 21572, 21573, 21574, 21575, 21576, 21577, 21578, 21579, 21580, 21581, 21582, 21583, 21584, 21585, 21586, 21587, 21588, 21589, 21590, 21591, 21592, 21593, 21594, 21595, 21596, 21597, 21598, 21599, 21600, 21601, 21602, 21603, 21604, 21605, 21606, 21607, 21608, 21609, 21610]\n"
     ]
    },
    {
     "name": "stderr",
     "output_type": "stream",
     "text": [
      "\n"
     ]
    }
   ],
   "source": [
    "data_folder = r\"/root/autodl-tmp/multipoly/data/lmd/lpd_5_midi/\"\n",
    "data_fpaths = os.listdir(data_folder)\n",
    "problems = []\n",
    "from tqdm import tqdm\n",
    "for i in tqdm(range(len(data_fpaths))):\n",
    "    try:\n",
    "        midi_fpath = os.path.join(data_folder,f\"{i}.mid\")\n",
    "        chord_fpath = os.path.join(data_folder,f\"{i}.out\")\n",
    "        npz_fpath = os.path.join(data_folder,f\"{i}.npz\")\n",
    "        npz_dict = midi_to_npz(midi_fpath, chord_fpath)\n",
    "        np.savez(npz_fpath, **npz_dict)\n",
    "        os.remove(chord_fpath)\n",
    "    except:\n",
    "        problems.append(i)\n",
    "print(problems)\n",
    "\n"
   ]
  },
  {
   "cell_type": "code",
   "execution_count": 17,
   "metadata": {},
   "outputs": [
    {
     "name": "stdout",
     "output_type": "stream",
     "text": [
      "232\n"
     ]
    }
   ],
   "source": [
    "\n",
    "\n",
    "print(len(problems))"
   ]
  }
 ],
 "metadata": {
  "kernelspec": {
   "display_name": "poly",
   "language": "python",
   "name": "python3"
  },
  "language_info": {
   "codemirror_mode": {
    "name": "ipython",
    "version": 3
   },
   "file_extension": ".py",
   "mimetype": "text/x-python",
   "name": "python",
   "nbconvert_exporter": "python",
   "pygments_lexer": "ipython3",
   "version": "3.10.13"
  }
 },
 "nbformat": 4,
 "nbformat_minor": 2
}
