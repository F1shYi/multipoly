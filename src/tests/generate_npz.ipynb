{
 "cells": [
  {
   "cell_type": "code",
   "execution_count": 3,
   "metadata": {},
   "outputs": [],
   "source": [
    "import os\n",
    "import torch\n",
    "import yaml\n",
    "import sys\n",
    "import numpy as np\n",
    "MULTIPOLY_FOLDER = os.path.dirname(os.path.dirname(os.getcwd()))\n",
    "\n",
    "sys.path.append(MULTIPOLY_FOLDER)\n"
   ]
  },
  {
   "cell_type": "code",
   "execution_count": 4,
   "metadata": {},
   "outputs": [
    {
     "name": "stderr",
     "output_type": "stream",
     "text": [
      "/root/miniconda3/envs/poly/lib/python3.10/site-packages/pydub/utils.py:170: RuntimeWarning: Couldn't find ffmpeg or avconv - defaulting to ffmpeg, but may not work\n",
      "  warn(\"Couldn't find ffmpeg or avconv - defaulting to ffmpeg, but may not work\", RuntimeWarning)\n"
     ]
    }
   ],
   "source": [
    "from src.data.utils import midi_to_npz, chd_to_midi_file\n",
    "import muspy"
   ]
  },
  {
   "cell_type": "code",
   "execution_count": 5,
   "metadata": {},
   "outputs": [],
   "source": [
    "data_folder = r\"/root/autodl-tmp/multipoly/data/lmd/lpd_5_midi/\"\n",
    "data_fpaths = os.listdir(data_folder)\n",
    "problems = []\n"
   ]
  },
  {
   "cell_type": "code",
   "execution_count": 6,
   "metadata": {},
   "outputs": [
    {
     "name": "stderr",
     "output_type": "stream",
     "text": [
      "100%|██████████| 21425/21425 [20:11<00:00, 17.68it/s]\n"
     ]
    }
   ],
   "source": [
    "valid_fpaths = []\n",
    "from tqdm import tqdm\n",
    "for i in tqdm(range(21425)):\n",
    "    midi_fpath = os.path.join(data_folder,f\"{i}.mid\")\n",
    "    music = muspy.read(midi_fpath)\n",
    "\n",
    "    bad = False\n",
    "    for track in music.tracks:\n",
    "        if track.is_drum:\n",
    "            continue\n",
    "        if len(track) < 1000:\n",
    "            bad = True\n",
    "            break\n",
    "    if bad:\n",
    "        continue\n",
    "    \n",
    "    valid_fpaths.append(midi_fpath)\n"
   ]
  },
  {
   "cell_type": "code",
   "execution_count": null,
   "metadata": {},
   "outputs": [
    {
     "name": "stdout",
     "output_type": "stream",
     "text": [
      "1835\n"
     ]
    },
    {
     "name": "stderr",
     "output_type": "stream",
     "text": [
      "100%|██████████| 1835/1835 [01:46<00:00, 17.24it/s]"
     ]
    },
    {
     "name": "stdout",
     "output_type": "stream",
     "text": [
      "1124\n"
     ]
    },
    {
     "name": "stderr",
     "output_type": "stream",
     "text": [
      "\n"
     ]
    }
   ],
   "source": [
    "print(len(valid_fpaths))\n",
    "\n",
    "valid_valid_fpaths = []\n",
    "for fpath in tqdm(valid_fpaths):\n",
    "    music = muspy.read(fpath)\n",
    "    bad = False\n",
    "    for track in music.tracks:\n",
    "        if track.is_drum:\n",
    "            continue\n",
    "        if len(track) < 1700:\n",
    "            bad = True\n",
    "            break\n",
    "    if bad:\n",
    "        continue\n",
    "    valid_valid_fpaths.append(fpath)\n",
    "\n",
    "print(len(valid_valid_fpaths))"
   ]
  },
  {
   "cell_type": "code",
   "execution_count": null,
   "metadata": {},
   "outputs": [
    {
     "name": "stderr",
     "output_type": "stream",
     "text": [
      "11it [00:05,  2.07it/s]"
     ]
    },
    {
     "name": "stdout",
     "output_type": "stream",
     "text": [
      "Error occurred when loading /root/autodl-tmp/multipoly/data/lmd/lpd_5_midi/186.mid\n"
     ]
    },
    {
     "name": "stderr",
     "output_type": "stream",
     "text": [
      "49it [00:19,  3.56it/s]"
     ]
    },
    {
     "name": "stdout",
     "output_type": "stream",
     "text": [
      "Error occurred when loading /root/autodl-tmp/multipoly/data/lmd/lpd_5_midi/1424.mid\n"
     ]
    },
    {
     "name": "stderr",
     "output_type": "stream",
     "text": [
      "59it [00:22,  2.04it/s]"
     ]
    },
    {
     "name": "stdout",
     "output_type": "stream",
     "text": [
      "Error occurred when loading /root/autodl-tmp/multipoly/data/lmd/lpd_5_midi/1807.mid\n",
      "Error occurred when loading /root/autodl-tmp/multipoly/data/lmd/lpd_5_midi/1822.mid\n"
     ]
    },
    {
     "name": "stderr",
     "output_type": "stream",
     "text": [
      "82it [00:31,  2.74it/s]"
     ]
    },
    {
     "name": "stdout",
     "output_type": "stream",
     "text": [
      "Error occurred when loading /root/autodl-tmp/multipoly/data/lmd/lpd_5_midi/2242.mid\n"
     ]
    },
    {
     "name": "stderr",
     "output_type": "stream",
     "text": [
      "85it [00:32,  2.80it/s]"
     ]
    },
    {
     "name": "stdout",
     "output_type": "stream",
     "text": [
      "Error occurred when loading /root/autodl-tmp/multipoly/data/lmd/lpd_5_midi/2297.mid\n"
     ]
    },
    {
     "name": "stderr",
     "output_type": "stream",
     "text": [
      "116it [00:42,  3.72it/s]"
     ]
    },
    {
     "name": "stdout",
     "output_type": "stream",
     "text": [
      "Error occurred when loading /root/autodl-tmp/multipoly/data/lmd/lpd_5_midi/3387.mid\n"
     ]
    },
    {
     "name": "stderr",
     "output_type": "stream",
     "text": [
      "119it [00:43,  3.59it/s]"
     ]
    },
    {
     "name": "stdout",
     "output_type": "stream",
     "text": [
      "Error occurred when loading /root/autodl-tmp/multipoly/data/lmd/lpd_5_midi/3524.mid\n"
     ]
    },
    {
     "name": "stderr",
     "output_type": "stream",
     "text": [
      "168it [01:02,  2.49it/s]"
     ]
    },
    {
     "name": "stdout",
     "output_type": "stream",
     "text": [
      "Error occurred when loading /root/autodl-tmp/multipoly/data/lmd/lpd_5_midi/4683.mid\n"
     ]
    },
    {
     "name": "stderr",
     "output_type": "stream",
     "text": [
      "185it [01:08,  3.83it/s]"
     ]
    },
    {
     "name": "stdout",
     "output_type": "stream",
     "text": [
      "Error occurred when loading /root/autodl-tmp/multipoly/data/lmd/lpd_5_midi/5181.mid\n"
     ]
    },
    {
     "name": "stderr",
     "output_type": "stream",
     "text": [
      "189it [01:10,  2.69it/s]"
     ]
    },
    {
     "name": "stdout",
     "output_type": "stream",
     "text": [
      "Error occurred when loading /root/autodl-tmp/multipoly/data/lmd/lpd_5_midi/5264.mid\n"
     ]
    },
    {
     "name": "stderr",
     "output_type": "stream",
     "text": [
      "207it [01:17,  3.04it/s]"
     ]
    },
    {
     "name": "stdout",
     "output_type": "stream",
     "text": [
      "Error occurred when loading /root/autodl-tmp/multipoly/data/lmd/lpd_5_midi/5770.mid\n",
      "Error occurred when loading /root/autodl-tmp/multipoly/data/lmd/lpd_5_midi/5799.mid\n"
     ]
    },
    {
     "name": "stderr",
     "output_type": "stream",
     "text": [
      "238it [01:28,  2.65it/s]"
     ]
    },
    {
     "name": "stdout",
     "output_type": "stream",
     "text": [
      "Error occurred when loading /root/autodl-tmp/multipoly/data/lmd/lpd_5_midi/6691.mid\n",
      "Error occurred when loading /root/autodl-tmp/multipoly/data/lmd/lpd_5_midi/6696.mid\n"
     ]
    },
    {
     "name": "stderr",
     "output_type": "stream",
     "text": [
      "241it [01:28,  4.52it/s]"
     ]
    },
    {
     "name": "stdout",
     "output_type": "stream",
     "text": [
      "Error occurred when loading /root/autodl-tmp/multipoly/data/lmd/lpd_5_midi/6753.mid\n"
     ]
    },
    {
     "name": "stderr",
     "output_type": "stream",
     "text": [
      "270it [01:38,  3.05it/s]"
     ]
    },
    {
     "name": "stdout",
     "output_type": "stream",
     "text": [
      "Error occurred when loading /root/autodl-tmp/multipoly/data/lmd/lpd_5_midi/7706.mid\n"
     ]
    },
    {
     "name": "stderr",
     "output_type": "stream",
     "text": [
      "299it [01:49,  2.44it/s]"
     ]
    },
    {
     "name": "stdout",
     "output_type": "stream",
     "text": [
      "Error occurred when loading /root/autodl-tmp/multipoly/data/lmd/lpd_5_midi/8580.mid\n"
     ]
    },
    {
     "name": "stderr",
     "output_type": "stream",
     "text": [
      "331it [02:00,  2.56it/s]"
     ]
    },
    {
     "name": "stdout",
     "output_type": "stream",
     "text": [
      "Error occurred when loading /root/autodl-tmp/multipoly/data/lmd/lpd_5_midi/9733.mid\n"
     ]
    },
    {
     "name": "stderr",
     "output_type": "stream",
     "text": [
      "335it [02:02,  2.39it/s]"
     ]
    },
    {
     "name": "stdout",
     "output_type": "stream",
     "text": [
      "Error occurred when loading /root/autodl-tmp/multipoly/data/lmd/lpd_5_midi/9942.mid\n"
     ]
    },
    {
     "name": "stderr",
     "output_type": "stream",
     "text": [
      "351it [02:08,  1.60it/s]"
     ]
    },
    {
     "name": "stdout",
     "output_type": "stream",
     "text": [
      "Error occurred when loading /root/autodl-tmp/multipoly/data/lmd/lpd_5_midi/10373.mid\n"
     ]
    },
    {
     "name": "stderr",
     "output_type": "stream",
     "text": [
      "373it [02:16,  3.87it/s]"
     ]
    },
    {
     "name": "stdout",
     "output_type": "stream",
     "text": [
      "Error occurred when loading /root/autodl-tmp/multipoly/data/lmd/lpd_5_midi/10844.mid\n"
     ]
    },
    {
     "name": "stderr",
     "output_type": "stream",
     "text": [
      "384it [02:19,  5.73it/s]"
     ]
    },
    {
     "name": "stdout",
     "output_type": "stream",
     "text": [
      "Error occurred when loading /root/autodl-tmp/multipoly/data/lmd/lpd_5_midi/11100.mid\n",
      "Error occurred when loading /root/autodl-tmp/multipoly/data/lmd/lpd_5_midi/11127.mid\n"
     ]
    },
    {
     "name": "stderr",
     "output_type": "stream",
     "text": [
      "436it [02:39,  2.90it/s]"
     ]
    },
    {
     "name": "stdout",
     "output_type": "stream",
     "text": [
      "Error occurred when loading /root/autodl-tmp/multipoly/data/lmd/lpd_5_midi/12968.mid\n"
     ]
    },
    {
     "name": "stderr",
     "output_type": "stream",
     "text": [
      "451it [02:45,  2.54it/s]"
     ]
    },
    {
     "name": "stdout",
     "output_type": "stream",
     "text": [
      "Error occurred when loading /root/autodl-tmp/multipoly/data/lmd/lpd_5_midi/13310.mid\n"
     ]
    },
    {
     "name": "stderr",
     "output_type": "stream",
     "text": [
      "462it [02:48,  2.87it/s]"
     ]
    },
    {
     "name": "stdout",
     "output_type": "stream",
     "text": [
      "Error occurred when loading /root/autodl-tmp/multipoly/data/lmd/lpd_5_midi/13670.mid\n"
     ]
    },
    {
     "name": "stderr",
     "output_type": "stream",
     "text": [
      "470it [02:50,  3.03it/s]"
     ]
    },
    {
     "name": "stdout",
     "output_type": "stream",
     "text": [
      "Error occurred when loading /root/autodl-tmp/multipoly/data/lmd/lpd_5_midi/13889.mid\n"
     ]
    },
    {
     "name": "stderr",
     "output_type": "stream",
     "text": [
      "504it [03:03,  2.80it/s]"
     ]
    },
    {
     "name": "stdout",
     "output_type": "stream",
     "text": [
      "Error occurred when loading /root/autodl-tmp/multipoly/data/lmd/lpd_5_midi/14635.mid\n"
     ]
    },
    {
     "name": "stderr",
     "output_type": "stream",
     "text": [
      "511it [03:05,  2.99it/s]"
     ]
    },
    {
     "name": "stdout",
     "output_type": "stream",
     "text": [
      "Error occurred when loading /root/autodl-tmp/multipoly/data/lmd/lpd_5_midi/14841.mid\n",
      "Error occurred when loading /root/autodl-tmp/multipoly/data/lmd/lpd_5_midi/14844.mid\n"
     ]
    },
    {
     "name": "stderr",
     "output_type": "stream",
     "text": [
      "525it [03:10,  2.63it/s]"
     ]
    },
    {
     "name": "stdout",
     "output_type": "stream",
     "text": [
      "Error occurred when loading /root/autodl-tmp/multipoly/data/lmd/lpd_5_midi/15280.mid\n"
     ]
    },
    {
     "name": "stderr",
     "output_type": "stream",
     "text": [
      "540it [03:14,  3.43it/s]"
     ]
    },
    {
     "name": "stdout",
     "output_type": "stream",
     "text": [
      "Error occurred when loading /root/autodl-tmp/multipoly/data/lmd/lpd_5_midi/15754.mid\n"
     ]
    },
    {
     "name": "stderr",
     "output_type": "stream",
     "text": [
      "558it [03:20,  2.86it/s]"
     ]
    },
    {
     "name": "stdout",
     "output_type": "stream",
     "text": [
      "Error occurred when loading /root/autodl-tmp/multipoly/data/lmd/lpd_5_midi/16071.mid\n"
     ]
    },
    {
     "name": "stderr",
     "output_type": "stream",
     "text": [
      "574it [03:25,  4.99it/s]"
     ]
    },
    {
     "name": "stdout",
     "output_type": "stream",
     "text": [
      "Error occurred when loading /root/autodl-tmp/multipoly/data/lmd/lpd_5_midi/16422.mid\n",
      "Error occurred when loading /root/autodl-tmp/multipoly/data/lmd/lpd_5_midi/16445.mid\n",
      "Error occurred when loading /root/autodl-tmp/multipoly/data/lmd/lpd_5_midi/16468.mid\n"
     ]
    },
    {
     "name": "stderr",
     "output_type": "stream",
     "text": [
      "577it [03:25,  4.30it/s]"
     ]
    },
    {
     "name": "stdout",
     "output_type": "stream",
     "text": [
      "Error occurred when loading /root/autodl-tmp/multipoly/data/lmd/lpd_5_midi/16600.mid\n"
     ]
    },
    {
     "name": "stderr",
     "output_type": "stream",
     "text": [
      "591it [03:30,  3.63it/s]"
     ]
    },
    {
     "name": "stdout",
     "output_type": "stream",
     "text": [
      "Error occurred when loading /root/autodl-tmp/multipoly/data/lmd/lpd_5_midi/16912.mid\n"
     ]
    },
    {
     "name": "stderr",
     "output_type": "stream",
     "text": [
      "596it [03:32,  3.12it/s]"
     ]
    },
    {
     "name": "stdout",
     "output_type": "stream",
     "text": [
      "Error occurred when loading /root/autodl-tmp/multipoly/data/lmd/lpd_5_midi/17063.mid\n"
     ]
    },
    {
     "name": "stderr",
     "output_type": "stream",
     "text": [
      "599it [03:33,  3.30it/s]"
     ]
    },
    {
     "name": "stdout",
     "output_type": "stream",
     "text": [
      "Error occurred when loading /root/autodl-tmp/multipoly/data/lmd/lpd_5_midi/17169.mid\n"
     ]
    },
    {
     "name": "stderr",
     "output_type": "stream",
     "text": [
      "633it [03:44,  3.42it/s]"
     ]
    },
    {
     "name": "stdout",
     "output_type": "stream",
     "text": [
      "Error occurred when loading /root/autodl-tmp/multipoly/data/lmd/lpd_5_midi/17957.mid\n"
     ]
    },
    {
     "name": "stderr",
     "output_type": "stream",
     "text": [
      "658it [03:53,  4.51it/s]"
     ]
    },
    {
     "name": "stdout",
     "output_type": "stream",
     "text": [
      "Error occurred when loading /root/autodl-tmp/multipoly/data/lmd/lpd_5_midi/18500.mid\n",
      "Error occurred when loading /root/autodl-tmp/multipoly/data/lmd/lpd_5_midi/18507.mid\n"
     ]
    },
    {
     "name": "stderr",
     "output_type": "stream",
     "text": [
      "713it [04:16,  2.11it/s]"
     ]
    },
    {
     "name": "stdout",
     "output_type": "stream",
     "text": [
      "Error occurred when loading /root/autodl-tmp/multipoly/data/lmd/lpd_5_midi/20103.mid\n"
     ]
    },
    {
     "name": "stderr",
     "output_type": "stream",
     "text": [
      "727it [04:21,  2.81it/s]"
     ]
    },
    {
     "name": "stdout",
     "output_type": "stream",
     "text": [
      "Error occurred when loading /root/autodl-tmp/multipoly/data/lmd/lpd_5_midi/20467.mid\n"
     ]
    },
    {
     "name": "stderr",
     "output_type": "stream",
     "text": [
      "760it [04:34,  2.77it/s]\n"
     ]
    }
   ],
   "source": [
    "from tqdm import tqdm\n",
    "for idx, midi_fpath in tqdm(enumerate(valid_valid_fpaths)):\n",
    "    try:\n",
    "        chord_fpath = os.path.join(\"/root/autodl-tmp/multipoly/data/lmd/lpd_filtered_2/\",f\"{idx}.out\")\n",
    "        npz_fpath = os.path.join(\"/root/autodl-tmp/multipoly/data/lmd/lpd_filtered_2/\",f\"{idx}.npz\") \n",
    "        npz_dict = midi_to_npz(midi_fpath, chord_fpath)\n",
    "        np.savez(npz_fpath, **npz_dict)\n",
    "        os.remove(chord_fpath)\n",
    "    except:\n",
    "        print(\"Error occurred when loading \" + midi_fpath)\n",
    "        \n",
    "\n"
   ]
  },
  {
   "cell_type": "code",
   "execution_count": 13,
   "metadata": {},
   "outputs": [
    {
     "name": "stdout",
     "output_type": "stream",
     "text": [
      "[158, 921, 1105, 16, 399, 2217, 1286, 1187, 722, 1347, 167, 264, 2090, 1343, 694, 1527, 2317, 681, 1399, 906, 1881, 44, 2199, 452, 2576, 444, 1825, 289, 1923, 445, 105, 1337, 624, 551, 904, 584, 1154, 276, 701, 28, 928, 422, 571, 418, 543, 1669, 3515, 274, 3116, 240, 2132, 2181, 40, 1273, 144, 163, 1742, 2296, 1563, 988, 1430, 722, 1732, 1569, 883, 1014, 1446, 2653, 508, 1041, 1801]\n",
      "[974, 994, 1634, 1747, 160, 1281, 672, 2205, 281, 943, 497, 635, 472, 1233, 392, 1809, 72, 415, 1746, 151, 1184, 1452, 155, 1042, 1668, 505, 3383, 191, 1755, 866, 1003, 599, 1143, 755, 386, 2532, 1735, 417, 1593, 1440, 1040, 412, 1258, 441, 4132, 1269, 333, 3033, 1162, 188, 730, 306, 1822, 2112, 817, 763, 341, 342, 790, 801, 780, 1403, 1795, 2193, 674, 556, 1285, 2135]\n",
      "[819, 354, 279, 49, 362, 181, 791, 422, 292, 341, 391, 413, 680, 232, 317, 487, 69, 1132, 892, 555, 228, 702, 42, 460, 915, 373, 554, 197, 705, 379, 553, 888, 167, 259, 567, 278, 730, 528, 617, 1192, 133, 492, 765, 360, 556, 337, 514, 1049, 673, 482, 228, 267, 545, 577, 268, 226, 320, 939, 657, 671, 402, 408, 187, 704, 213, 397, 233, 1538, 330, 1314, 127, 348, 471, 360, 466, 249]\n",
      "[2102, 1624, 656, 535, 99, 490, 651, 575, 661, 354, 364, 123, 1153, 1, 1188, 624, 2522, 361, 1574, 686, 577, 1028, 973, 559, 380, 818, 230, 1169, 298, 1252, 1758, 1363, 605, 514, 339, 358, 394, 2200, 24, 101, 590, 1127, 276, 516, 503, 839, 970, 433, 487, 438, 613, 534, 778, 459, 847, 1553, 1594, 665, 459, 758, 1655, 347, 448, 148, 138, 645, 896, 3777, 673, 688, 311, 839, 987, 276, 246, 154, 1094, 847, 282, 346, 77, 1129, 3646, 73, 1461]\n"
     ]
    }
   ],
   "source": [
    "print(piano_notes)\n",
    "print(guitar_notes)\n",
    "print(bass_notes)\n",
    "print(string_notes)"
   ]
  },
  {
   "cell_type": "code",
   "execution_count": 17,
   "metadata": {},
   "outputs": [
    {
     "name": "stdout",
     "output_type": "stream",
     "text": [
      "232\n"
     ]
    }
   ],
   "source": [
    "\n",
    "\n",
    "print(len(problems))"
   ]
  }
 ],
 "metadata": {
  "kernelspec": {
   "display_name": "poly",
   "language": "python",
   "name": "python3"
  },
  "language_info": {
   "codemirror_mode": {
    "name": "ipython",
    "version": 3
   },
   "file_extension": ".py",
   "mimetype": "text/x-python",
   "name": "python",
   "nbconvert_exporter": "python",
   "pygments_lexer": "ipython3",
   "version": "3.10.13"
  }
 },
 "nbformat": 4,
 "nbformat_minor": 2
}
