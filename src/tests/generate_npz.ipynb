{
 "cells": [
  {
   "cell_type": "code",
   "execution_count": 1,
   "metadata": {},
   "outputs": [],
   "source": [
    "import os\n",
    "import torch\n",
    "import yaml\n",
    "import sys\n",
    "import numpy as np\n",
    "MULTIPOLY_FOLDER = os.path.dirname(os.path.dirname(os.getcwd()))\n",
    "\n",
    "sys.path.append(MULTIPOLY_FOLDER)\n"
   ]
  },
  {
   "cell_type": "code",
   "execution_count": 2,
   "metadata": {},
   "outputs": [
    {
     "name": "stderr",
     "output_type": "stream",
     "text": [
      "/root/miniconda3/envs/poly/lib/python3.10/site-packages/pydub/utils.py:170: RuntimeWarning: Couldn't find ffmpeg or avconv - defaulting to ffmpeg, but may not work\n",
      "  warn(\"Couldn't find ffmpeg or avconv - defaulting to ffmpeg, but may not work\", RuntimeWarning)\n"
     ]
    }
   ],
   "source": [
    "from src.data.utils import midi_to_npz, chd_to_midi_file\n",
    "import muspy"
   ]
  },
  {
   "cell_type": "code",
   "execution_count": null,
   "metadata": {},
   "outputs": [
    {
     "name": "stderr",
     "output_type": "stream",
     "text": [
      "  0%|          | 0/42804 [00:00<?, ?it/s]"
     ]
    },
    {
     "name": "stderr",
     "output_type": "stream",
     "text": [
      "  0%|          | 38/42804 [00:14<5:33:04,  2.14it/s]"
     ]
    }
   ],
   "source": [
    "data_folder = r\"/root/autodl-tmp/multipoly/data/lmd/lpd_5_midi/\"\n",
    "data_fpaths = os.listdir(data_folder)\n",
    "problems = []\n",
    "from tqdm import tqdm\n",
    "for i in tqdm(range(21425)):\n",
    "    midi_fpath = os.path.join(data_folder,f\"{i}.mid\")\n",
    "    music = muspy.read(midi_fpath)\n",
    "    bad_track = False\n",
    "    for track in music.tracks:\n",
    "        if track.is_drum:\n",
    "            continue\n",
    "        if len(track)<10:\n",
    "            bad_track=True\n",
    "            break\n",
    "    if bad_track:\n",
    "        continue\n",
    "\n",
    "    try:\n",
    "        midi_fpath = os.path.join(data_folder,f\"{i}.mid\")\n",
    "        chord_fpath = os.path.join(\"/root/autodl-tmp/multipoly/data/lmd/lpd_4_clean/\",f\"{i}.out\")\n",
    "        npz_fpath = os.path.join(\"/root/autodl-tmp/multipoly/data/lmd/lpd_4_clean/\",f\"{i}.npz\")\n",
    "        npz_dict = midi_to_npz(midi_fpath, chord_fpath)\n",
    "        np.savez(npz_fpath, **npz_dict)\n",
    "        os.remove(chord_fpath)\n",
    "    except:\n",
    "        problems.append(i)\n",
    "print(problems)\n",
    "\n"
   ]
  },
  {
   "cell_type": "code",
   "execution_count": 17,
   "metadata": {},
   "outputs": [
    {
     "name": "stdout",
     "output_type": "stream",
     "text": [
      "232\n"
     ]
    }
   ],
   "source": [
    "\n",
    "\n",
    "print(len(problems))"
   ]
  }
 ],
 "metadata": {
  "kernelspec": {
   "display_name": "poly",
   "language": "python",
   "name": "python3"
  },
  "language_info": {
   "codemirror_mode": {
    "name": "ipython",
    "version": 3
   },
   "file_extension": ".py",
   "mimetype": "text/x-python",
   "name": "python",
   "nbconvert_exporter": "python",
   "pygments_lexer": "ipython3",
   "version": "3.10.13"
  }
 },
 "nbformat": 4,
 "nbformat_minor": 2
}
