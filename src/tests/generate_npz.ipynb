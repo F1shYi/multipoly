{
 "cells": [
  {
   "cell_type": "code",
   "execution_count": 3,
   "metadata": {},
   "outputs": [],
   "source": [
    "import os\n",
    "import torch\n",
    "import yaml\n",
    "import sys\n",
    "import numpy as np\n",
    "MULTIPOLY_FOLDER = os.path.dirname(os.path.dirname(os.getcwd()))\n",
    "\n",
    "sys.path.append(MULTIPOLY_FOLDER)\n"
   ]
  },
  {
   "cell_type": "code",
   "execution_count": 4,
   "metadata": {},
   "outputs": [
    {
     "name": "stderr",
     "output_type": "stream",
     "text": [
      "/root/miniconda3/envs/poly/lib/python3.10/site-packages/pydub/utils.py:170: RuntimeWarning: Couldn't find ffmpeg or avconv - defaulting to ffmpeg, but may not work\n",
      "  warn(\"Couldn't find ffmpeg or avconv - defaulting to ffmpeg, but may not work\", RuntimeWarning)\n"
     ]
    }
   ],
   "source": [
    "from src.data.utils import midi_to_npz, chd_to_midi_file\n",
    "import muspy"
   ]
  },
  {
   "cell_type": "code",
   "execution_count": 5,
   "metadata": {},
   "outputs": [],
   "source": [
    "data_folder = r\"/root/autodl-tmp/multipoly/data/lmd/lpd_5_midi/\"\n",
    "data_fpaths = os.listdir(data_folder)\n",
    "problems = []\n"
   ]
  },
  {
   "cell_type": "code",
   "execution_count": 6,
   "metadata": {},
   "outputs": [
    {
     "name": "stderr",
     "output_type": "stream",
     "text": [
      "100%|██████████| 21425/21425 [20:11<00:00, 17.68it/s]\n"
     ]
    }
   ],
   "source": [
    "valid_fpaths = []\n",
    "from tqdm import tqdm\n",
    "for i in tqdm(range(21425)):\n",
    "    midi_fpath = os.path.join(data_folder,f\"{i}.mid\")\n",
    "    music = muspy.read(midi_fpath)\n",
    "\n",
    "    bad = False\n",
    "    for track in music.tracks:\n",
    "        if track.is_drum:\n",
    "            continue\n",
    "        if len(track) < 1000:\n",
    "            bad = True\n",
    "            break\n",
    "    if bad:\n",
    "        continue\n",
    "    \n",
    "    valid_fpaths.append(midi_fpath)\n"
   ]
  },
  {
   "cell_type": "code",
   "execution_count": 8,
   "metadata": {},
   "outputs": [
    {
     "name": "stdout",
     "output_type": "stream",
     "text": [
      "1835\n"
     ]
    },
    {
     "name": "stderr",
     "output_type": "stream",
     "text": [
      "100%|██████████| 1835/1835 [01:45<00:00, 17.39it/s]"
     ]
    },
    {
     "name": "stdout",
     "output_type": "stream",
     "text": [
      "966\n"
     ]
    },
    {
     "name": "stderr",
     "output_type": "stream",
     "text": [
      "\n"
     ]
    }
   ],
   "source": [
    "print(len(valid_fpaths))\n",
    "\n",
    "valid_valid_fpaths = []\n",
    "for fpath in tqdm(valid_fpaths):\n",
    "    music = muspy.read(fpath)\n",
    "    bad = False\n",
    "    for track in music.tracks:\n",
    "        if track.is_drum:\n",
    "            continue\n",
    "        if len(track) < 1700:\n",
    "            bad = True\n",
    "            break\n",
    "    if bad:\n",
    "        continue\n",
    "    valid_valid_fpaths.append(fpath)\n",
    "\n",
    "print(len(valid_valid_fpaths))"
   ]
  },
  {
   "cell_type": "code",
   "execution_count": 9,
   "metadata": {},
   "outputs": [
    {
     "name": "stderr",
     "output_type": "stream",
     "text": [
      "100%|██████████| 966/966 [00:57<00:00, 16.89it/s]\n"
     ]
    }
   ],
   "source": [
    "\n",
    "valid_valid_valid_fpaths = []\n",
    "for fpath in tqdm(valid_valid_fpaths):\n",
    "    music = muspy.read(fpath)\n",
    "    bad = False\n",
    "    for track in music.tracks:\n",
    "        if track.is_drum:\n",
    "            continue\n",
    "        if len(track) < 1800:\n",
    "            bad = True\n",
    "            break\n",
    "    if bad:\n",
    "        continue\n",
    "    valid_valid_valid_fpaths.append(fpath)"
   ]
  },
  {
   "cell_type": "code",
   "execution_count": 10,
   "metadata": {},
   "outputs": [
    {
     "name": "stdout",
     "output_type": "stream",
     "text": [
      "901\n"
     ]
    }
   ],
   "source": [
    "print(len(valid_valid_valid_fpaths))"
   ]
  },
  {
   "cell_type": "code",
   "execution_count": 11,
   "metadata": {},
   "outputs": [
    {
     "name": "stderr",
     "output_type": "stream",
     "text": [
      "13it [00:06,  2.19it/s]"
     ]
    },
    {
     "name": "stdout",
     "output_type": "stream",
     "text": [
      "Error occurred when loading /root/autodl-tmp/multipoly/data/lmd/lpd_5_midi/186.mid\n"
     ]
    },
    {
     "name": "stderr",
     "output_type": "stream",
     "text": [
      "58it [00:21,  2.86it/s]"
     ]
    },
    {
     "name": "stdout",
     "output_type": "stream",
     "text": [
      "Error occurred when loading /root/autodl-tmp/multipoly/data/lmd/lpd_5_midi/1424.mid\n"
     ]
    },
    {
     "name": "stderr",
     "output_type": "stream",
     "text": [
      "73it [00:26,  3.35it/s]"
     ]
    },
    {
     "name": "stdout",
     "output_type": "stream",
     "text": [
      "Error occurred when loading /root/autodl-tmp/multipoly/data/lmd/lpd_5_midi/1807.mid\n",
      "Error occurred when loading /root/autodl-tmp/multipoly/data/lmd/lpd_5_midi/1822.mid\n"
     ]
    },
    {
     "name": "stderr",
     "output_type": "stream",
     "text": [
      "96it [00:36,  2.70it/s]"
     ]
    },
    {
     "name": "stdout",
     "output_type": "stream",
     "text": [
      "Error occurred when loading /root/autodl-tmp/multipoly/data/lmd/lpd_5_midi/2242.mid\n"
     ]
    },
    {
     "name": "stderr",
     "output_type": "stream",
     "text": [
      "101it [00:37,  2.54it/s]"
     ]
    },
    {
     "name": "stdout",
     "output_type": "stream",
     "text": [
      "Error occurred when loading /root/autodl-tmp/multipoly/data/lmd/lpd_5_midi/2297.mid\n"
     ]
    },
    {
     "name": "stderr",
     "output_type": "stream",
     "text": [
      "136it [00:49,  3.60it/s]"
     ]
    },
    {
     "name": "stdout",
     "output_type": "stream",
     "text": [
      "Error occurred when loading /root/autodl-tmp/multipoly/data/lmd/lpd_5_midi/3387.mid\n"
     ]
    },
    {
     "name": "stderr",
     "output_type": "stream",
     "text": [
      "139it [00:50,  3.53it/s]"
     ]
    },
    {
     "name": "stdout",
     "output_type": "stream",
     "text": [
      "Error occurred when loading /root/autodl-tmp/multipoly/data/lmd/lpd_5_midi/3524.mid\n"
     ]
    },
    {
     "name": "stderr",
     "output_type": "stream",
     "text": [
      "194it [01:11,  2.51it/s]"
     ]
    },
    {
     "name": "stdout",
     "output_type": "stream",
     "text": [
      "Error occurred when loading /root/autodl-tmp/multipoly/data/lmd/lpd_5_midi/4683.mid\n"
     ]
    },
    {
     "name": "stderr",
     "output_type": "stream",
     "text": [
      "217it [01:19,  3.26it/s]"
     ]
    },
    {
     "name": "stdout",
     "output_type": "stream",
     "text": [
      "Error occurred when loading /root/autodl-tmp/multipoly/data/lmd/lpd_5_midi/5181.mid\n"
     ]
    },
    {
     "name": "stderr",
     "output_type": "stream",
     "text": [
      "222it [01:21,  2.82it/s]"
     ]
    },
    {
     "name": "stdout",
     "output_type": "stream",
     "text": [
      "Error occurred when loading /root/autodl-tmp/multipoly/data/lmd/lpd_5_midi/5264.mid\n"
     ]
    },
    {
     "name": "stderr",
     "output_type": "stream",
     "text": [
      "243it [01:28,  3.62it/s]"
     ]
    },
    {
     "name": "stdout",
     "output_type": "stream",
     "text": [
      "Error occurred when loading /root/autodl-tmp/multipoly/data/lmd/lpd_5_midi/5770.mid\n"
     ]
    },
    {
     "name": "stderr",
     "output_type": "stream",
     "text": [
      "245it [01:28,  4.24it/s]"
     ]
    },
    {
     "name": "stdout",
     "output_type": "stream",
     "text": [
      "Error occurred when loading /root/autodl-tmp/multipoly/data/lmd/lpd_5_midi/5799.mid\n"
     ]
    },
    {
     "name": "stderr",
     "output_type": "stream",
     "text": [
      "281it [01:41,  2.96it/s]"
     ]
    },
    {
     "name": "stdout",
     "output_type": "stream",
     "text": [
      "Error occurred when loading /root/autodl-tmp/multipoly/data/lmd/lpd_5_midi/6691.mid\n",
      "Error occurred when loading /root/autodl-tmp/multipoly/data/lmd/lpd_5_midi/6696.mid\n"
     ]
    },
    {
     "name": "stderr",
     "output_type": "stream",
     "text": [
      "284it [01:41,  4.51it/s]"
     ]
    },
    {
     "name": "stdout",
     "output_type": "stream",
     "text": [
      "Error occurred when loading /root/autodl-tmp/multipoly/data/lmd/lpd_5_midi/6753.mid\n"
     ]
    },
    {
     "name": "stderr",
     "output_type": "stream",
     "text": [
      "316it [01:51,  3.31it/s]"
     ]
    },
    {
     "name": "stdout",
     "output_type": "stream",
     "text": [
      "Error occurred when loading /root/autodl-tmp/multipoly/data/lmd/lpd_5_midi/7706.mid\n"
     ]
    },
    {
     "name": "stderr",
     "output_type": "stream",
     "text": [
      "354it [02:04,  2.62it/s]"
     ]
    },
    {
     "name": "stdout",
     "output_type": "stream",
     "text": [
      "Error occurred when loading /root/autodl-tmp/multipoly/data/lmd/lpd_5_midi/8580.mid\n"
     ]
    },
    {
     "name": "stderr",
     "output_type": "stream",
     "text": [
      "393it [02:18,  2.57it/s]"
     ]
    },
    {
     "name": "stdout",
     "output_type": "stream",
     "text": [
      "Error occurred when loading /root/autodl-tmp/multipoly/data/lmd/lpd_5_midi/9733.mid\n"
     ]
    },
    {
     "name": "stderr",
     "output_type": "stream",
     "text": [
      "400it [02:20,  2.49it/s]"
     ]
    },
    {
     "name": "stdout",
     "output_type": "stream",
     "text": [
      "Error occurred when loading /root/autodl-tmp/multipoly/data/lmd/lpd_5_midi/9942.mid\n"
     ]
    },
    {
     "name": "stderr",
     "output_type": "stream",
     "text": [
      "416it [02:27,  1.61it/s]"
     ]
    },
    {
     "name": "stdout",
     "output_type": "stream",
     "text": [
      "Error occurred when loading /root/autodl-tmp/multipoly/data/lmd/lpd_5_midi/10373.mid\n"
     ]
    },
    {
     "name": "stderr",
     "output_type": "stream",
     "text": [
      "443it [02:35,  4.41it/s]"
     ]
    },
    {
     "name": "stdout",
     "output_type": "stream",
     "text": [
      "Error occurred when loading /root/autodl-tmp/multipoly/data/lmd/lpd_5_midi/10844.mid\n"
     ]
    },
    {
     "name": "stderr",
     "output_type": "stream",
     "text": [
      "456it [02:39,  6.58it/s]"
     ]
    },
    {
     "name": "stdout",
     "output_type": "stream",
     "text": [
      "Error occurred when loading /root/autodl-tmp/multipoly/data/lmd/lpd_5_midi/11100.mid\n",
      "Error occurred when loading /root/autodl-tmp/multipoly/data/lmd/lpd_5_midi/11127.mid\n"
     ]
    },
    {
     "name": "stderr",
     "output_type": "stream",
     "text": [
      "516it [03:01,  2.80it/s]"
     ]
    },
    {
     "name": "stdout",
     "output_type": "stream",
     "text": [
      "Error occurred when loading /root/autodl-tmp/multipoly/data/lmd/lpd_5_midi/12968.mid\n"
     ]
    },
    {
     "name": "stderr",
     "output_type": "stream",
     "text": [
      "533it [03:07,  2.61it/s]"
     ]
    },
    {
     "name": "stdout",
     "output_type": "stream",
     "text": [
      "Error occurred when loading /root/autodl-tmp/multipoly/data/lmd/lpd_5_midi/13310.mid\n"
     ]
    },
    {
     "name": "stderr",
     "output_type": "stream",
     "text": [
      "546it [03:11,  3.00it/s]"
     ]
    },
    {
     "name": "stdout",
     "output_type": "stream",
     "text": [
      "Error occurred when loading /root/autodl-tmp/multipoly/data/lmd/lpd_5_midi/13670.mid\n"
     ]
    },
    {
     "name": "stderr",
     "output_type": "stream",
     "text": [
      "558it [03:14,  4.29it/s]"
     ]
    },
    {
     "name": "stdout",
     "output_type": "stream",
     "text": [
      "Error occurred when loading /root/autodl-tmp/multipoly/data/lmd/lpd_5_midi/13889.mid\n"
     ]
    },
    {
     "name": "stderr",
     "output_type": "stream",
     "text": [
      "595it [03:27,  2.82it/s]"
     ]
    },
    {
     "name": "stdout",
     "output_type": "stream",
     "text": [
      "Error occurred when loading /root/autodl-tmp/multipoly/data/lmd/lpd_5_midi/14635.mid\n"
     ]
    },
    {
     "name": "stderr",
     "output_type": "stream",
     "text": [
      "602it [03:30,  3.14it/s]"
     ]
    },
    {
     "name": "stdout",
     "output_type": "stream",
     "text": [
      "Error occurred when loading /root/autodl-tmp/multipoly/data/lmd/lpd_5_midi/14841.mid\n",
      "Error occurred when loading /root/autodl-tmp/multipoly/data/lmd/lpd_5_midi/14844.mid\n"
     ]
    },
    {
     "name": "stderr",
     "output_type": "stream",
     "text": [
      "620it [03:36,  2.82it/s]"
     ]
    },
    {
     "name": "stdout",
     "output_type": "stream",
     "text": [
      "Error occurred when loading /root/autodl-tmp/multipoly/data/lmd/lpd_5_midi/15280.mid\n"
     ]
    },
    {
     "name": "stderr",
     "output_type": "stream",
     "text": [
      "639it [03:42,  3.53it/s]"
     ]
    },
    {
     "name": "stdout",
     "output_type": "stream",
     "text": [
      "Error occurred when loading /root/autodl-tmp/multipoly/data/lmd/lpd_5_midi/15754.mid\n"
     ]
    },
    {
     "name": "stderr",
     "output_type": "stream",
     "text": [
      "657it [03:47,  2.93it/s]"
     ]
    },
    {
     "name": "stdout",
     "output_type": "stream",
     "text": [
      "Error occurred when loading /root/autodl-tmp/multipoly/data/lmd/lpd_5_midi/16071.mid\n"
     ]
    },
    {
     "name": "stderr",
     "output_type": "stream",
     "text": [
      "672it [03:52,  4.04it/s]"
     ]
    },
    {
     "name": "stdout",
     "output_type": "stream",
     "text": [
      "Error occurred when loading /root/autodl-tmp/multipoly/data/lmd/lpd_5_midi/16422.mid\n"
     ]
    },
    {
     "name": "stderr",
     "output_type": "stream",
     "text": [
      "675it [03:52,  5.81it/s]"
     ]
    },
    {
     "name": "stdout",
     "output_type": "stream",
     "text": [
      "Error occurred when loading /root/autodl-tmp/multipoly/data/lmd/lpd_5_midi/16445.mid\n",
      "Error occurred when loading /root/autodl-tmp/multipoly/data/lmd/lpd_5_midi/16468.mid\n"
     ]
    },
    {
     "name": "stderr",
     "output_type": "stream",
     "text": [
      "679it [03:54,  3.35it/s]"
     ]
    },
    {
     "name": "stdout",
     "output_type": "stream",
     "text": [
      "Error occurred when loading /root/autodl-tmp/multipoly/data/lmd/lpd_5_midi/16600.mid\n"
     ]
    },
    {
     "name": "stderr",
     "output_type": "stream",
     "text": [
      "702it [04:01,  3.28it/s]"
     ]
    },
    {
     "name": "stdout",
     "output_type": "stream",
     "text": [
      "Error occurred when loading /root/autodl-tmp/multipoly/data/lmd/lpd_5_midi/16912.mid\n"
     ]
    },
    {
     "name": "stderr",
     "output_type": "stream",
     "text": [
      "710it [04:04,  3.39it/s]"
     ]
    },
    {
     "name": "stdout",
     "output_type": "stream",
     "text": [
      "Error occurred when loading /root/autodl-tmp/multipoly/data/lmd/lpd_5_midi/17063.mid\n"
     ]
    },
    {
     "name": "stderr",
     "output_type": "stream",
     "text": [
      "714it [04:05,  3.50it/s]"
     ]
    },
    {
     "name": "stdout",
     "output_type": "stream",
     "text": [
      "Error occurred when loading /root/autodl-tmp/multipoly/data/lmd/lpd_5_midi/17169.mid\n"
     ]
    },
    {
     "name": "stderr",
     "output_type": "stream",
     "text": [
      "750it [04:17,  3.39it/s]"
     ]
    },
    {
     "name": "stdout",
     "output_type": "stream",
     "text": [
      "Error occurred when loading /root/autodl-tmp/multipoly/data/lmd/lpd_5_midi/17957.mid\n"
     ]
    },
    {
     "name": "stderr",
     "output_type": "stream",
     "text": [
      "781it [04:27,  4.68it/s]"
     ]
    },
    {
     "name": "stdout",
     "output_type": "stream",
     "text": [
      "Error occurred when loading /root/autodl-tmp/multipoly/data/lmd/lpd_5_midi/18500.mid\n",
      "Error occurred when loading /root/autodl-tmp/multipoly/data/lmd/lpd_5_midi/18507.mid\n"
     ]
    },
    {
     "name": "stderr",
     "output_type": "stream",
     "text": [
      "846it [04:50,  2.23it/s]"
     ]
    },
    {
     "name": "stdout",
     "output_type": "stream",
     "text": [
      "Error occurred when loading /root/autodl-tmp/multipoly/data/lmd/lpd_5_midi/20103.mid\n"
     ]
    },
    {
     "name": "stderr",
     "output_type": "stream",
     "text": [
      "866it [04:58,  2.44it/s]"
     ]
    },
    {
     "name": "stdout",
     "output_type": "stream",
     "text": [
      "Error occurred when loading /root/autodl-tmp/multipoly/data/lmd/lpd_5_midi/20467.mid\n"
     ]
    },
    {
     "name": "stderr",
     "output_type": "stream",
     "text": [
      "901it [05:12,  2.89it/s]\n"
     ]
    }
   ],
   "source": [
    "from tqdm import tqdm\n",
    "for idx, midi_fpath in tqdm(enumerate(valid_valid_valid_fpaths)):\n",
    "    try:\n",
    "        chord_fpath = os.path.join(\"/root/autodl-tmp/multipoly/data/lmd/lpd_filtered_2/\",f\"{idx}.out\")\n",
    "        npz_fpath = os.path.join(\"/root/autodl-tmp/multipoly/data/lmd/lpd_filtered_2/\",f\"{idx}.npz\") \n",
    "        npz_dict = midi_to_npz(midi_fpath, chord_fpath)\n",
    "        np.savez(npz_fpath, **npz_dict)\n",
    "        os.remove(chord_fpath)\n",
    "    except:\n",
    "        print(\"Error occurred when loading \" + midi_fpath)\n",
    "        \n",
    "\n"
   ]
  },
  {
   "cell_type": "code",
   "execution_count": 13,
   "metadata": {},
   "outputs": [
    {
     "name": "stdout",
     "output_type": "stream",
     "text": [
      "[158, 921, 1105, 16, 399, 2217, 1286, 1187, 722, 1347, 167, 264, 2090, 1343, 694, 1527, 2317, 681, 1399, 906, 1881, 44, 2199, 452, 2576, 444, 1825, 289, 1923, 445, 105, 1337, 624, 551, 904, 584, 1154, 276, 701, 28, 928, 422, 571, 418, 543, 1669, 3515, 274, 3116, 240, 2132, 2181, 40, 1273, 144, 163, 1742, 2296, 1563, 988, 1430, 722, 1732, 1569, 883, 1014, 1446, 2653, 508, 1041, 1801]\n",
      "[974, 994, 1634, 1747, 160, 1281, 672, 2205, 281, 943, 497, 635, 472, 1233, 392, 1809, 72, 415, 1746, 151, 1184, 1452, 155, 1042, 1668, 505, 3383, 191, 1755, 866, 1003, 599, 1143, 755, 386, 2532, 1735, 417, 1593, 1440, 1040, 412, 1258, 441, 4132, 1269, 333, 3033, 1162, 188, 730, 306, 1822, 2112, 817, 763, 341, 342, 790, 801, 780, 1403, 1795, 2193, 674, 556, 1285, 2135]\n",
      "[819, 354, 279, 49, 362, 181, 791, 422, 292, 341, 391, 413, 680, 232, 317, 487, 69, 1132, 892, 555, 228, 702, 42, 460, 915, 373, 554, 197, 705, 379, 553, 888, 167, 259, 567, 278, 730, 528, 617, 1192, 133, 492, 765, 360, 556, 337, 514, 1049, 673, 482, 228, 267, 545, 577, 268, 226, 320, 939, 657, 671, 402, 408, 187, 704, 213, 397, 233, 1538, 330, 1314, 127, 348, 471, 360, 466, 249]\n",
      "[2102, 1624, 656, 535, 99, 490, 651, 575, 661, 354, 364, 123, 1153, 1, 1188, 624, 2522, 361, 1574, 686, 577, 1028, 973, 559, 380, 818, 230, 1169, 298, 1252, 1758, 1363, 605, 514, 339, 358, 394, 2200, 24, 101, 590, 1127, 276, 516, 503, 839, 970, 433, 487, 438, 613, 534, 778, 459, 847, 1553, 1594, 665, 459, 758, 1655, 347, 448, 148, 138, 645, 896, 3777, 673, 688, 311, 839, 987, 276, 246, 154, 1094, 847, 282, 346, 77, 1129, 3646, 73, 1461]\n"
     ]
    }
   ],
   "source": [
    "print(piano_notes)\n",
    "print(guitar_notes)\n",
    "print(bass_notes)\n",
    "print(string_notes)"
   ]
  },
  {
   "cell_type": "code",
   "execution_count": 17,
   "metadata": {},
   "outputs": [
    {
     "name": "stdout",
     "output_type": "stream",
     "text": [
      "232\n"
     ]
    }
   ],
   "source": [
    "\n",
    "\n",
    "print(len(problems))"
   ]
  }
 ],
 "metadata": {
  "kernelspec": {
   "display_name": "poly",
   "language": "python",
   "name": "python3"
  },
  "language_info": {
   "codemirror_mode": {
    "name": "ipython",
    "version": 3
   },
   "file_extension": ".py",
   "mimetype": "text/x-python",
   "name": "python",
   "nbconvert_exporter": "python",
   "pygments_lexer": "ipython3",
   "version": "3.10.13"
  }
 },
 "nbformat": 4,
 "nbformat_minor": 2
}
