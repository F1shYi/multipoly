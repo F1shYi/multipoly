{
 "cells": [
  {
   "cell_type": "markdown",
   "metadata": {},
   "source": [
    "We will test our intertrack conv1d module here.\n",
    "\n",
    "It should be initialized to zero, which means at the beginning it should output the result identical to its intra-track counterpart.\n"
   ]
  },
  {
   "cell_type": "markdown",
   "metadata": {},
   "source": [
    "# Tensor shape\n",
    "2d: [B, C, W, H]\n",
    "\n",
    "\n",
    "3d: [B, T, C, W, H], T = track num"
   ]
  },
  {
   "cell_type": "code",
   "execution_count": 1,
   "metadata": {},
   "outputs": [],
   "source": [
    "import torch\n",
    "import torch.nn as nn\n",
    "\n",
    "batch_size = 16\n",
    "in_channels = 2\n",
    "width = 128\n",
    "height = 128\n",
    "track_num = 5\n",
    "device = \"cuda\"\n",
    "input_tensor = torch.randn([batch_size, track_num, in_channels, width, height]).to(device)"
   ]
  },
  {
   "cell_type": "markdown",
   "metadata": {},
   "source": [
    "# Conv1d\n",
    "\n",
    "Test convolution along the track axis only."
   ]
  },
  {
   "cell_type": "code",
   "execution_count": 2,
   "metadata": {},
   "outputs": [
    {
     "name": "stdout",
     "output_type": "stream",
     "text": [
      "torch.Size([262144, 2, 5])\n"
     ]
    }
   ],
   "source": [
    "input_1d = input_tensor.permute(3,4,0,2,1).reshape(-1,in_channels,track_num).to(device)\n",
    "print(input_1d.shape)"
   ]
  },
  {
   "cell_type": "code",
   "execution_count": 3,
   "metadata": {},
   "outputs": [],
   "source": [
    "conv1d = nn.Conv1d(in_channels=input_1d.shape[1], out_channels=input_1d.shape[1]*track_num, kernel_size=5).to(device)\n",
    "conv1d.weight.data.fill_(0.)\n",
    "conv1d.bias.data.fill_(0.)\n",
    "params = conv1d.parameters()"
   ]
  },
  {
   "cell_type": "code",
   "execution_count": 4,
   "metadata": {},
   "outputs": [
    {
     "name": "stdout",
     "output_type": "stream",
     "text": [
      "torch.Size([262144, 10, 1])\n",
      "torch.Size([262144, 2, 5])\n"
     ]
    }
   ],
   "source": [
    "output_1d = conv1d(input_1d)\n",
    "print(output_1d.shape)\n",
    "output_1d = output_1d.reshape(-1, in_channels,track_num)\n",
    "res_output_1d = output_1d + input_1d\n",
    "print(res_output_1d.shape)"
   ]
  },
  {
   "cell_type": "code",
   "execution_count": 5,
   "metadata": {},
   "outputs": [],
   "source": [
    "assert torch.allclose(input_1d, res_output_1d), \"Conv1d test failed\""
   ]
  }
 ],
 "metadata": {
  "kernelspec": {
   "display_name": "music",
   "language": "python",
   "name": "python3"
  },
  "language_info": {
   "codemirror_mode": {
    "name": "ipython",
    "version": 3
   },
   "file_extension": ".py",
   "mimetype": "text/x-python",
   "name": "python",
   "nbconvert_exporter": "python",
   "pygments_lexer": "ipython3",
   "version": "3.10.15"
  }
 },
 "nbformat": 4,
 "nbformat_minor": 2
}
