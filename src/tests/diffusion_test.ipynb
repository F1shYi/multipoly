{
 "cells": [
  {
   "cell_type": "code",
   "execution_count": 5,
   "metadata": {},
   "outputs": [
    {
     "name": "stdout",
     "output_type": "stream",
     "text": [
      "---------------loading polyffusion weights-------------------\n",
      "input_blocks.10.2.attention.layers.0.self_attn.in_proj_weight\n",
      "input_blocks.10.2.attention.layers.0.self_attn.in_proj_bias\n",
      "input_blocks.10.2.attention.layers.0.self_attn.out_proj.weight\n",
      "input_blocks.10.2.attention.layers.0.self_attn.out_proj.bias\n",
      "input_blocks.10.2.attention.layers.0.linear1.weight\n",
      "input_blocks.10.2.attention.layers.0.linear1.bias\n",
      "input_blocks.10.2.attention.layers.0.linear2.weight\n",
      "input_blocks.10.2.attention.layers.0.linear2.bias\n",
      "input_blocks.10.2.attention.layers.0.norm1.weight\n",
      "input_blocks.10.2.attention.layers.0.norm1.bias\n",
      "input_blocks.10.2.attention.layers.0.norm2.weight\n",
      "input_blocks.10.2.attention.layers.0.norm2.bias\n",
      "input_blocks.10.2.attention.layers.1.self_attn.in_proj_weight\n",
      "input_blocks.10.2.attention.layers.1.self_attn.in_proj_bias\n",
      "input_blocks.10.2.attention.layers.1.self_attn.out_proj.weight\n",
      "input_blocks.10.2.attention.layers.1.self_attn.out_proj.bias\n",
      "input_blocks.10.2.attention.layers.1.linear1.weight\n",
      "input_blocks.10.2.attention.layers.1.linear1.bias\n",
      "input_blocks.10.2.attention.layers.1.linear2.weight\n",
      "input_blocks.10.2.attention.layers.1.linear2.bias\n",
      "input_blocks.10.2.attention.layers.1.norm1.weight\n",
      "input_blocks.10.2.attention.layers.1.norm1.bias\n",
      "input_blocks.10.2.attention.layers.1.norm2.weight\n",
      "input_blocks.10.2.attention.layers.1.norm2.bias\n",
      "input_blocks.11.2.attention.layers.0.self_attn.in_proj_weight\n",
      "input_blocks.11.2.attention.layers.0.self_attn.in_proj_bias\n",
      "input_blocks.11.2.attention.layers.0.self_attn.out_proj.weight\n",
      "input_blocks.11.2.attention.layers.0.self_attn.out_proj.bias\n",
      "input_blocks.11.2.attention.layers.0.linear1.weight\n",
      "input_blocks.11.2.attention.layers.0.linear1.bias\n",
      "input_blocks.11.2.attention.layers.0.linear2.weight\n",
      "input_blocks.11.2.attention.layers.0.linear2.bias\n",
      "input_blocks.11.2.attention.layers.0.norm1.weight\n",
      "input_blocks.11.2.attention.layers.0.norm1.bias\n",
      "input_blocks.11.2.attention.layers.0.norm2.weight\n",
      "input_blocks.11.2.attention.layers.0.norm2.bias\n",
      "input_blocks.11.2.attention.layers.1.self_attn.in_proj_weight\n",
      "input_blocks.11.2.attention.layers.1.self_attn.in_proj_bias\n",
      "input_blocks.11.2.attention.layers.1.self_attn.out_proj.weight\n",
      "input_blocks.11.2.attention.layers.1.self_attn.out_proj.bias\n",
      "input_blocks.11.2.attention.layers.1.linear1.weight\n",
      "input_blocks.11.2.attention.layers.1.linear1.bias\n",
      "input_blocks.11.2.attention.layers.1.linear2.weight\n",
      "input_blocks.11.2.attention.layers.1.linear2.bias\n",
      "input_blocks.11.2.attention.layers.1.norm1.weight\n",
      "input_blocks.11.2.attention.layers.1.norm1.bias\n",
      "input_blocks.11.2.attention.layers.1.norm2.weight\n",
      "input_blocks.11.2.attention.layers.1.norm2.bias\n",
      "output_blocks.0.2.attention.layers.0.self_attn.in_proj_weight\n",
      "output_blocks.0.2.attention.layers.0.self_attn.in_proj_bias\n",
      "output_blocks.0.2.attention.layers.0.self_attn.out_proj.weight\n",
      "output_blocks.0.2.attention.layers.0.self_attn.out_proj.bias\n",
      "output_blocks.0.2.attention.layers.0.linear1.weight\n",
      "output_blocks.0.2.attention.layers.0.linear1.bias\n",
      "output_blocks.0.2.attention.layers.0.linear2.weight\n",
      "output_blocks.0.2.attention.layers.0.linear2.bias\n",
      "output_blocks.0.2.attention.layers.0.norm1.weight\n",
      "output_blocks.0.2.attention.layers.0.norm1.bias\n",
      "output_blocks.0.2.attention.layers.0.norm2.weight\n",
      "output_blocks.0.2.attention.layers.0.norm2.bias\n",
      "output_blocks.0.2.attention.layers.1.self_attn.in_proj_weight\n",
      "output_blocks.0.2.attention.layers.1.self_attn.in_proj_bias\n",
      "output_blocks.0.2.attention.layers.1.self_attn.out_proj.weight\n",
      "output_blocks.0.2.attention.layers.1.self_attn.out_proj.bias\n",
      "output_blocks.0.2.attention.layers.1.linear1.weight\n",
      "output_blocks.0.2.attention.layers.1.linear1.bias\n",
      "output_blocks.0.2.attention.layers.1.linear2.weight\n",
      "output_blocks.0.2.attention.layers.1.linear2.bias\n",
      "output_blocks.0.2.attention.layers.1.norm1.weight\n",
      "output_blocks.0.2.attention.layers.1.norm1.bias\n",
      "output_blocks.0.2.attention.layers.1.norm2.weight\n",
      "output_blocks.0.2.attention.layers.1.norm2.bias\n",
      "output_blocks.1.2.attention.layers.0.self_attn.in_proj_weight\n",
      "output_blocks.1.2.attention.layers.0.self_attn.in_proj_bias\n",
      "output_blocks.1.2.attention.layers.0.self_attn.out_proj.weight\n",
      "output_blocks.1.2.attention.layers.0.self_attn.out_proj.bias\n",
      "output_blocks.1.2.attention.layers.0.linear1.weight\n",
      "output_blocks.1.2.attention.layers.0.linear1.bias\n",
      "output_blocks.1.2.attention.layers.0.linear2.weight\n",
      "output_blocks.1.2.attention.layers.0.linear2.bias\n",
      "output_blocks.1.2.attention.layers.0.norm1.weight\n",
      "output_blocks.1.2.attention.layers.0.norm1.bias\n",
      "output_blocks.1.2.attention.layers.0.norm2.weight\n",
      "output_blocks.1.2.attention.layers.0.norm2.bias\n",
      "output_blocks.1.2.attention.layers.1.self_attn.in_proj_weight\n",
      "output_blocks.1.2.attention.layers.1.self_attn.in_proj_bias\n",
      "output_blocks.1.2.attention.layers.1.self_attn.out_proj.weight\n",
      "output_blocks.1.2.attention.layers.1.self_attn.out_proj.bias\n",
      "output_blocks.1.2.attention.layers.1.linear1.weight\n",
      "output_blocks.1.2.attention.layers.1.linear1.bias\n",
      "output_blocks.1.2.attention.layers.1.linear2.weight\n",
      "output_blocks.1.2.attention.layers.1.linear2.bias\n",
      "output_blocks.1.2.attention.layers.1.norm1.weight\n",
      "output_blocks.1.2.attention.layers.1.norm1.bias\n",
      "output_blocks.1.2.attention.layers.1.norm2.weight\n",
      "output_blocks.1.2.attention.layers.1.norm2.bias\n",
      "output_blocks.2.3.attention.layers.0.self_attn.in_proj_weight\n",
      "output_blocks.2.3.attention.layers.0.self_attn.in_proj_bias\n",
      "output_blocks.2.3.attention.layers.0.self_attn.out_proj.weight\n",
      "output_blocks.2.3.attention.layers.0.self_attn.out_proj.bias\n",
      "output_blocks.2.3.attention.layers.0.linear1.weight\n",
      "output_blocks.2.3.attention.layers.0.linear1.bias\n",
      "output_blocks.2.3.attention.layers.0.linear2.weight\n",
      "output_blocks.2.3.attention.layers.0.linear2.bias\n",
      "output_blocks.2.3.attention.layers.0.norm1.weight\n",
      "output_blocks.2.3.attention.layers.0.norm1.bias\n",
      "output_blocks.2.3.attention.layers.0.norm2.weight\n",
      "output_blocks.2.3.attention.layers.0.norm2.bias\n",
      "output_blocks.2.3.attention.layers.1.self_attn.in_proj_weight\n",
      "output_blocks.2.3.attention.layers.1.self_attn.in_proj_bias\n",
      "output_blocks.2.3.attention.layers.1.self_attn.out_proj.weight\n",
      "output_blocks.2.3.attention.layers.1.self_attn.out_proj.bias\n",
      "output_blocks.2.3.attention.layers.1.linear1.weight\n",
      "output_blocks.2.3.attention.layers.1.linear1.bias\n",
      "output_blocks.2.3.attention.layers.1.linear2.weight\n",
      "output_blocks.2.3.attention.layers.1.linear2.bias\n",
      "output_blocks.2.3.attention.layers.1.norm1.weight\n",
      "output_blocks.2.3.attention.layers.1.norm1.bias\n",
      "output_blocks.2.3.attention.layers.1.norm2.weight\n",
      "output_blocks.2.3.attention.layers.1.norm2.bias\n",
      "---------------polyffusion weights loaded with the above missing keys-------------------\n",
      "Polyffusion weights are freezed.\n",
      "It is expected that missing keys are all intertrack attention modules\n"
     ]
    }
   ],
   "source": [
    "import os\n",
    "import sys\n",
    "\n",
    "MULTIPOLY_FOLDER = os.path.dirname(os.path.dirname(os.getcwd()))\n",
    "POLYFFUSION_CKPT_PATH = os.path.join(MULTIPOLY_FOLDER, r\"polyffusion_ckpts/ldm_chd8bar/sdf+pop909wm_mix16_chd8bar/01-11_102022/chkpts/weights_best.pt\")\n",
    "CHORD_CKPT_PATH = os.path.join(MULTIPOLY_FOLDER, r\"pretrained/chd8bar/weights.pt\")\n",
    "\n",
    "sys.path.append(MULTIPOLY_FOLDER)\n",
    "\n",
    "from src.models.prepare_model import get_diffusion\n",
    "multipoly_unet_params_dict = {}\n",
    "multipoly_unet_params_dict[\"n_intertrack_head\"] = 4\n",
    "multipoly_unet_params_dict[\"num_intertrack_encoder_layers\"] = 2\n",
    "multipoly_unet_params_dict[\"intertrack_attention_levels\"] = [3]\n",
    "diffusion = get_diffusion(POLYFFUSION_CKPT_PATH, CHORD_CKPT_PATH, multipoly_unet_params_dict)"
   ]
  },
  {
   "cell_type": "code",
   "execution_count": 6,
   "metadata": {},
   "outputs": [],
   "source": [
    "# from src.data.dataloader import get_train_val_dataloaders\n",
    "# train_dl, val_dl = get_train_val_dataloaders(\n",
    "#     data_folder=\"/root/autodl-tmp/multipoly/data/lmd/lpd_5_midi/\",\n",
    "#     batch_size=7,\n",
    "#     num_workers=4,\n",
    "#     pin_memory=True\n",
    "# )\n"
   ]
  },
  {
   "cell_type": "code",
   "execution_count": 7,
   "metadata": {},
   "outputs": [],
   "source": [
    "import torch\n",
    "device = torch.device(\"cuda\" if torch.cuda.is_available() else \"cpu\")"
   ]
  },
  {
   "cell_type": "code",
   "execution_count": 8,
   "metadata": {},
   "outputs": [],
   "source": [
    "# for x in val_dl:\n",
    "#     chord = x[1]\n",
    "#     print(chord.shape)\n",
    "#     break"
   ]
  },
  {
   "cell_type": "code",
   "execution_count": 9,
   "metadata": {},
   "outputs": [],
   "source": [
    "# chord_single = chord[4]\n",
    "# chord_single = chord_single.reshape(1,32,36)\n",
    "# print(chord_single.shape)"
   ]
  },
  {
   "cell_type": "code",
   "execution_count": 10,
   "metadata": {},
   "outputs": [],
   "source": [
    "bs = 1\n",
    "track_num = 4\n",
    "import torch\n",
    "uncond_cond = torch.randn(1,1,512)\n",
    "\n"
   ]
  },
  {
   "cell_type": "code",
   "execution_count": 11,
   "metadata": {},
   "outputs": [],
   "source": [
    "diffusion = diffusion.to(device)\n",
    "uncond_cond = uncond_cond.to(device)\n",
    "# chord_single = chord_single.to(device)\n"
   ]
  },
  {
   "cell_type": "code",
   "execution_count": 12,
   "metadata": {},
   "outputs": [],
   "source": [
    "\n",
    "\n",
    "#gen_cond = diffusion.sample([1,4,2,128,128],chord_single,uncond_scale=5.0, uncond_cond=uncond_cond)"
   ]
  },
  {
   "cell_type": "code",
   "execution_count": 13,
   "metadata": {},
   "outputs": [
    {
     "name": "stderr",
     "output_type": "stream",
     "text": [
      "100%|██████████| 1000/1000 [00:22<00:00, 44.70it/s]\n"
     ]
    }
   ],
   "source": [
    "gen_uncond = diffusion.sample([1,4,2,128,128],uncond_cond=uncond_cond,uncond_scale=0.0)"
   ]
  },
  {
   "cell_type": "code",
   "execution_count": 14,
   "metadata": {},
   "outputs": [
    {
     "name": "stdout",
     "output_type": "stream",
     "text": [
      "torch.Size([1, 4, 2, 128, 128])\n"
     ]
    }
   ],
   "source": [
    "print(gen_uncond.shape)"
   ]
  },
  {
   "cell_type": "code",
   "execution_count": 15,
   "metadata": {},
   "outputs": [],
   "source": [
    "import pretty_midi as pm\n",
    "\n",
    "def custom_round(x):\n",
    "    if x > 0.95 and x < 1.05:\n",
    "        return 1\n",
    "    else:\n",
    "        return 0\n",
    "\n",
    "def prmat2c_to_midi_file(\n",
    "    prmat2c, fpath, is_custom_round=True\n",
    "):\n",
    "    print(f\"prmat2c : {prmat2c.shape}\")\n",
    "    midi = pm.PrettyMIDI()\n",
    "    piano_program = pm.instrument_name_to_program(\"Acoustic Grand Piano\")\n",
    "    origin = pm.Instrument(program=piano_program)\n",
    "    t = 0\n",
    "    n_step = prmat2c.shape[2]\n",
    "    t_bar = int(n_step / 8)\n",
    "    for bar_ind, bars in enumerate(prmat2c):\n",
    "        onset = bars[0]\n",
    "        sustain = bars[1]\n",
    "        for step_ind, step in enumerate(onset):\n",
    "            for key, on in enumerate(step):\n",
    "                if is_custom_round:\n",
    "                    on = int(custom_round(on))\n",
    "                else:\n",
    "                    on = int(round(on))\n",
    "                if on > 0:\n",
    "                    dur = 1\n",
    "                    while step_ind + dur < n_step:\n",
    "                        if not (int(round(sustain[step_ind + dur, key])) > 0):\n",
    "                            break\n",
    "                        dur += 1\n",
    "                    note = pm.Note(\n",
    "                        velocity=80,\n",
    "                        pitch=key,\n",
    "                        start=t + step_ind * 1 / 8,\n",
    "                        end=min(t + (step_ind + dur) * 1 / 8, t + t_bar),\n",
    "                    )\n",
    "                    \n",
    "                    origin.notes.append(note)\n",
    "        t += t_bar\n",
    "    midi.instruments.append(origin)\n",
    "    midi.write(fpath)\n",
    "\n",
    "\n",
    "import numpy as np\n",
    "def chd_to_midi_file(chords, output_fpath, one_beat=0.5):\n",
    "    \"\"\"\n",
    "    retrieve midi from chords\n",
    "    \"\"\"\n",
    "    if \"Tensor\" in str(type(chords)):\n",
    "        chords = chords.cpu().detach().numpy()\n",
    "    midi = pm.PrettyMIDI()\n",
    "    piano_program = pm.instrument_name_to_program(\"Acoustic Grand Piano\")\n",
    "    piano = pm.Instrument(program=piano_program)\n",
    "    t = 0.0\n",
    "    for chord in chords:\n",
    "        \n",
    "        if chord.shape[0] == 14:\n",
    "            root = int(chord[0])\n",
    "            chroma = chord[1:13].astype(int)\n",
    "            bass = int(chord[13])\n",
    "        elif chord.shape[0] == 36:\n",
    "            root = int(chord[0:12].argmax())\n",
    "            chroma = chord[12:24].astype(int)\n",
    "            bass = int(chord[24:].argmax())\n",
    "\n",
    "        chroma = np.roll(chroma, -bass)\n",
    "        c3 = 48\n",
    "        for i, n in enumerate(chroma):\n",
    "            if n == 1:\n",
    "                note = pm.Note(\n",
    "                    velocity=80,\n",
    "                    pitch=c3 + i + bass,\n",
    "                    start=t * one_beat,\n",
    "                    end=(t + 1) * one_beat,\n",
    "                )\n",
    "                piano.notes.append(note)\n",
    "        t += 1\n",
    "\n",
    "    midi.instruments.append(piano)\n",
    "    midi.write(output_fpath)\n",
    "\n"
   ]
  },
  {
   "cell_type": "code",
   "execution_count": 16,
   "metadata": {},
   "outputs": [
    {
     "name": "stdout",
     "output_type": "stream",
     "text": [
      "prmat2c : (1, 2, 128, 128)\n",
      "prmat2c : (1, 2, 128, 128)\n",
      "prmat2c : (1, 2, 128, 128)\n",
      "prmat2c : (1, 2, 128, 128)\n"
     ]
    }
   ],
   "source": [
    "# chd_to_midi_file(chord_single[0], f\"exp/chord.mid\")\n",
    "\n",
    "for i in range(4):\n",
    "    track_gen = gen_uncond[:,i].cpu().numpy()\n",
    "    prmat2c_to_midi_file(track_gen, f\"exp/diffusion_test_uncond_{i}.mid\")"
   ]
  },
  {
   "cell_type": "code",
   "execution_count": null,
   "metadata": {},
   "outputs": [],
   "source": []
  }
 ],
 "metadata": {
  "kernelspec": {
   "display_name": "poly",
   "language": "python",
   "name": "python3"
  },
  "language_info": {
   "codemirror_mode": {
    "name": "ipython",
    "version": 3
   },
   "file_extension": ".py",
   "mimetype": "text/x-python",
   "name": "python",
   "nbconvert_exporter": "python",
   "pygments_lexer": "ipython3",
   "version": "3.10.13"
  }
 },
 "nbformat": 4,
 "nbformat_minor": 2
}
