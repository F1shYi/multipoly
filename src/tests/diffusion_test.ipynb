{
 "cells": [
  {
   "cell_type": "code",
   "execution_count": 2,
   "metadata": {},
   "outputs": [
    {
     "name": "stdout",
     "output_type": "stream",
     "text": [
      "---------------loading polyffusion weights-------------------\n",
      "params zeroed.\n",
      "input_blocks.10.2.attention.layers.0.self_attn.in_proj_weight\n",
      "input_blocks.10.2.attention.layers.0.self_attn.in_proj_bias\n",
      "input_blocks.10.2.attention.layers.0.self_attn.out_proj.weight\n",
      "input_blocks.10.2.attention.layers.0.self_attn.out_proj.bias\n",
      "input_blocks.10.2.attention.layers.0.linear1.weight\n",
      "input_blocks.10.2.attention.layers.0.linear1.bias\n",
      "input_blocks.10.2.attention.layers.0.linear2.weight\n",
      "input_blocks.10.2.attention.layers.0.linear2.bias\n",
      "input_blocks.10.2.attention.layers.0.norm1.weight\n",
      "input_blocks.10.2.attention.layers.0.norm1.bias\n",
      "input_blocks.10.2.attention.layers.0.norm2.weight\n",
      "input_blocks.10.2.attention.layers.0.norm2.bias\n",
      "input_blocks.10.2.attention.layers.1.self_attn.in_proj_weight\n",
      "input_blocks.10.2.attention.layers.1.self_attn.in_proj_bias\n",
      "input_blocks.10.2.attention.layers.1.self_attn.out_proj.weight\n",
      "input_blocks.10.2.attention.layers.1.self_attn.out_proj.bias\n",
      "input_blocks.10.2.attention.layers.1.linear1.weight\n",
      "input_blocks.10.2.attention.layers.1.linear1.bias\n",
      "input_blocks.10.2.attention.layers.1.linear2.weight\n",
      "input_blocks.10.2.attention.layers.1.linear2.bias\n",
      "input_blocks.10.2.attention.layers.1.norm1.weight\n",
      "input_blocks.10.2.attention.layers.1.norm1.bias\n",
      "input_blocks.10.2.attention.layers.1.norm2.weight\n",
      "input_blocks.10.2.attention.layers.1.norm2.bias\n",
      "input_blocks.11.2.attention.layers.0.self_attn.in_proj_weight\n",
      "input_blocks.11.2.attention.layers.0.self_attn.in_proj_bias\n",
      "input_blocks.11.2.attention.layers.0.self_attn.out_proj.weight\n",
      "input_blocks.11.2.attention.layers.0.self_attn.out_proj.bias\n",
      "input_blocks.11.2.attention.layers.0.linear1.weight\n",
      "input_blocks.11.2.attention.layers.0.linear1.bias\n",
      "input_blocks.11.2.attention.layers.0.linear2.weight\n",
      "input_blocks.11.2.attention.layers.0.linear2.bias\n",
      "input_blocks.11.2.attention.layers.0.norm1.weight\n",
      "input_blocks.11.2.attention.layers.0.norm1.bias\n",
      "input_blocks.11.2.attention.layers.0.norm2.weight\n",
      "input_blocks.11.2.attention.layers.0.norm2.bias\n",
      "input_blocks.11.2.attention.layers.1.self_attn.in_proj_weight\n",
      "input_blocks.11.2.attention.layers.1.self_attn.in_proj_bias\n",
      "input_blocks.11.2.attention.layers.1.self_attn.out_proj.weight\n",
      "input_blocks.11.2.attention.layers.1.self_attn.out_proj.bias\n",
      "input_blocks.11.2.attention.layers.1.linear1.weight\n",
      "input_blocks.11.2.attention.layers.1.linear1.bias\n",
      "input_blocks.11.2.attention.layers.1.linear2.weight\n",
      "input_blocks.11.2.attention.layers.1.linear2.bias\n",
      "input_blocks.11.2.attention.layers.1.norm1.weight\n",
      "input_blocks.11.2.attention.layers.1.norm1.bias\n",
      "input_blocks.11.2.attention.layers.1.norm2.weight\n",
      "input_blocks.11.2.attention.layers.1.norm2.bias\n",
      "output_blocks.0.2.attention.layers.0.self_attn.in_proj_weight\n",
      "output_blocks.0.2.attention.layers.0.self_attn.in_proj_bias\n",
      "output_blocks.0.2.attention.layers.0.self_attn.out_proj.weight\n",
      "output_blocks.0.2.attention.layers.0.self_attn.out_proj.bias\n",
      "output_blocks.0.2.attention.layers.0.linear1.weight\n",
      "output_blocks.0.2.attention.layers.0.linear1.bias\n",
      "output_blocks.0.2.attention.layers.0.linear2.weight\n",
      "output_blocks.0.2.attention.layers.0.linear2.bias\n",
      "output_blocks.0.2.attention.layers.0.norm1.weight\n",
      "output_blocks.0.2.attention.layers.0.norm1.bias\n",
      "output_blocks.0.2.attention.layers.0.norm2.weight\n",
      "output_blocks.0.2.attention.layers.0.norm2.bias\n",
      "output_blocks.0.2.attention.layers.1.self_attn.in_proj_weight\n",
      "output_blocks.0.2.attention.layers.1.self_attn.in_proj_bias\n",
      "output_blocks.0.2.attention.layers.1.self_attn.out_proj.weight\n",
      "output_blocks.0.2.attention.layers.1.self_attn.out_proj.bias\n",
      "output_blocks.0.2.attention.layers.1.linear1.weight\n",
      "output_blocks.0.2.attention.layers.1.linear1.bias\n",
      "output_blocks.0.2.attention.layers.1.linear2.weight\n",
      "output_blocks.0.2.attention.layers.1.linear2.bias\n",
      "output_blocks.0.2.attention.layers.1.norm1.weight\n",
      "output_blocks.0.2.attention.layers.1.norm1.bias\n",
      "output_blocks.0.2.attention.layers.1.norm2.weight\n",
      "output_blocks.0.2.attention.layers.1.norm2.bias\n",
      "output_blocks.1.2.attention.layers.0.self_attn.in_proj_weight\n",
      "output_blocks.1.2.attention.layers.0.self_attn.in_proj_bias\n",
      "output_blocks.1.2.attention.layers.0.self_attn.out_proj.weight\n",
      "output_blocks.1.2.attention.layers.0.self_attn.out_proj.bias\n",
      "output_blocks.1.2.attention.layers.0.linear1.weight\n",
      "output_blocks.1.2.attention.layers.0.linear1.bias\n",
      "output_blocks.1.2.attention.layers.0.linear2.weight\n",
      "output_blocks.1.2.attention.layers.0.linear2.bias\n",
      "output_blocks.1.2.attention.layers.0.norm1.weight\n",
      "output_blocks.1.2.attention.layers.0.norm1.bias\n",
      "output_blocks.1.2.attention.layers.0.norm2.weight\n",
      "output_blocks.1.2.attention.layers.0.norm2.bias\n",
      "output_blocks.1.2.attention.layers.1.self_attn.in_proj_weight\n",
      "output_blocks.1.2.attention.layers.1.self_attn.in_proj_bias\n",
      "output_blocks.1.2.attention.layers.1.self_attn.out_proj.weight\n",
      "output_blocks.1.2.attention.layers.1.self_attn.out_proj.bias\n",
      "output_blocks.1.2.attention.layers.1.linear1.weight\n",
      "output_blocks.1.2.attention.layers.1.linear1.bias\n",
      "output_blocks.1.2.attention.layers.1.linear2.weight\n",
      "output_blocks.1.2.attention.layers.1.linear2.bias\n",
      "output_blocks.1.2.attention.layers.1.norm1.weight\n",
      "output_blocks.1.2.attention.layers.1.norm1.bias\n",
      "output_blocks.1.2.attention.layers.1.norm2.weight\n",
      "output_blocks.1.2.attention.layers.1.norm2.bias\n",
      "output_blocks.2.3.attention.layers.0.self_attn.in_proj_weight\n",
      "output_blocks.2.3.attention.layers.0.self_attn.in_proj_bias\n",
      "output_blocks.2.3.attention.layers.0.self_attn.out_proj.weight\n",
      "output_blocks.2.3.attention.layers.0.self_attn.out_proj.bias\n",
      "output_blocks.2.3.attention.layers.0.linear1.weight\n",
      "output_blocks.2.3.attention.layers.0.linear1.bias\n",
      "output_blocks.2.3.attention.layers.0.linear2.weight\n",
      "output_blocks.2.3.attention.layers.0.linear2.bias\n",
      "output_blocks.2.3.attention.layers.0.norm1.weight\n",
      "output_blocks.2.3.attention.layers.0.norm1.bias\n",
      "output_blocks.2.3.attention.layers.0.norm2.weight\n",
      "output_blocks.2.3.attention.layers.0.norm2.bias\n",
      "output_blocks.2.3.attention.layers.1.self_attn.in_proj_weight\n",
      "output_blocks.2.3.attention.layers.1.self_attn.in_proj_bias\n",
      "output_blocks.2.3.attention.layers.1.self_attn.out_proj.weight\n",
      "output_blocks.2.3.attention.layers.1.self_attn.out_proj.bias\n",
      "output_blocks.2.3.attention.layers.1.linear1.weight\n",
      "output_blocks.2.3.attention.layers.1.linear1.bias\n",
      "output_blocks.2.3.attention.layers.1.linear2.weight\n",
      "output_blocks.2.3.attention.layers.1.linear2.bias\n",
      "output_blocks.2.3.attention.layers.1.norm1.weight\n",
      "output_blocks.2.3.attention.layers.1.norm1.bias\n",
      "output_blocks.2.3.attention.layers.1.norm2.weight\n",
      "output_blocks.2.3.attention.layers.1.norm2.bias\n",
      "---------------polyffusion weights loaded with the above missing keys-------------------\n",
      "Polyffusion weights are freezed.\n",
      "It is expected that missing keys are all intertrack attention modules\n"
     ]
    }
   ],
   "source": [
    "import os\n",
    "import sys\n",
    "\n",
    "MULTIPOLY_FOLDER = os.path.dirname(os.path.dirname(os.getcwd()))\n",
    "POLYFFUSION_CKPT_PATH = os.path.join(MULTIPOLY_FOLDER, r\"polyffusion_ckpts/ldm_chd8bar/sdf+pop909wm_mix16_chd8bar/01-11_102022/chkpts/weights_best.pt\")\n",
    "CHORD_CKPT_PATH = os.path.join(MULTIPOLY_FOLDER, r\"pretrained/chd8bar/weights.pt\")\n",
    "\n",
    "sys.path.append(MULTIPOLY_FOLDER)\n",
    "\n",
    "from src.models.prepare_model import get_diffusion\n",
    "multipoly_unet_params_dict = {}\n",
    "multipoly_unet_params_dict[\"n_intertrack_head\"] = 4\n",
    "multipoly_unet_params_dict[\"num_intertrack_encoder_layers\"] = 2\n",
    "multipoly_unet_params_dict[\"intertrack_attention_levels\"] = [3]\n",
    "diffusion = get_diffusion(POLYFFUSION_CKPT_PATH, CHORD_CKPT_PATH, multipoly_unet_params_dict)\n",
    "\n"
   ]
  },
  {
   "cell_type": "code",
   "execution_count": null,
   "metadata": {},
   "outputs": [
    {
     "name": "stderr",
     "output_type": "stream",
     "text": [
      "/root/miniconda3/envs/poly/lib/python3.10/site-packages/pydub/utils.py:170: RuntimeWarning: Couldn't find ffmpeg or avconv - defaulting to ffmpeg, but may not work\n",
      "  warn(\"Couldn't find ffmpeg or avconv - defaulting to ffmpeg, but may not work\", RuntimeWarning)\n"
     ]
    },
    {
     "ename": "KeyboardInterrupt",
     "evalue": "",
     "output_type": "error",
     "traceback": [
      "\u001b[0;31m---------------------------------------------------------------------------\u001b[0m",
      "\u001b[0;31mKeyboardInterrupt\u001b[0m                         Traceback (most recent call last)",
      "Cell \u001b[0;32mIn[2], line 2\u001b[0m\n\u001b[1;32m      1\u001b[0m \u001b[38;5;28;01mfrom\u001b[39;00m\u001b[38;5;250m \u001b[39m\u001b[38;5;21;01msrc\u001b[39;00m\u001b[38;5;21;01m.\u001b[39;00m\u001b[38;5;21;01mdata\u001b[39;00m\u001b[38;5;21;01m.\u001b[39;00m\u001b[38;5;21;01mdataloader\u001b[39;00m\u001b[38;5;250m \u001b[39m\u001b[38;5;28;01mimport\u001b[39;00m get_train_val_dataloaders\n\u001b[0;32m----> 2\u001b[0m train_dl, val_dl \u001b[38;5;241m=\u001b[39m \u001b[43mget_train_val_dataloaders\u001b[49m\u001b[43m(\u001b[49m\n\u001b[1;32m      3\u001b[0m \u001b[43m    \u001b[49m\u001b[43mdata_folder\u001b[49m\u001b[38;5;241;43m=\u001b[39;49m\u001b[38;5;124;43m\"\u001b[39;49m\u001b[38;5;124;43m/root/autodl-tmp/multipoly/data/lmd/lpd_5_midi/\u001b[39;49m\u001b[38;5;124;43m\"\u001b[39;49m\u001b[43m,\u001b[49m\n\u001b[1;32m      4\u001b[0m \u001b[43m    \u001b[49m\u001b[43mbatch_size\u001b[49m\u001b[38;5;241;43m=\u001b[39;49m\u001b[38;5;241;43m7\u001b[39;49m\u001b[43m,\u001b[49m\n\u001b[1;32m      5\u001b[0m \u001b[43m    \u001b[49m\u001b[43mnum_workers\u001b[49m\u001b[38;5;241;43m=\u001b[39;49m\u001b[38;5;241;43m4\u001b[39;49m\u001b[43m,\u001b[49m\n\u001b[1;32m      6\u001b[0m \u001b[43m    \u001b[49m\u001b[43mpin_memory\u001b[49m\u001b[38;5;241;43m=\u001b[39;49m\u001b[38;5;28;43;01mTrue\u001b[39;49;00m\n\u001b[1;32m      7\u001b[0m \u001b[43m)\u001b[49m\n",
      "File \u001b[0;32m~/autodl-tmp/multipoly/src/data/dataloader.py:55\u001b[0m, in \u001b[0;36mget_train_val_dataloaders\u001b[0;34m(data_folder, batch_size, num_workers, train_ratio, pin_memory)\u001b[0m\n\u001b[1;32m     52\u001b[0m train_fpaths \u001b[38;5;241m=\u001b[39m all_fpaths[:train_num]\n\u001b[1;32m     53\u001b[0m val_fpaths \u001b[38;5;241m=\u001b[39m all_fpaths[train_num\u001b[38;5;241m+\u001b[39m\u001b[38;5;241m1\u001b[39m:]\n\u001b[0;32m---> 55\u001b[0m train_samples \u001b[38;5;241m=\u001b[39m [DataSampleNpz(data_fpath) \u001b[38;5;28;01mfor\u001b[39;00m data_fpath \u001b[38;5;129;01min\u001b[39;00m train_fpaths]\n\u001b[1;32m     56\u001b[0m val_samples \u001b[38;5;241m=\u001b[39m [DataSampleNpz(data_fpath) \u001b[38;5;28;01mfor\u001b[39;00m data_fpath \u001b[38;5;129;01min\u001b[39;00m val_fpaths]\n\u001b[1;32m     58\u001b[0m train_dataset \u001b[38;5;241m=\u001b[39m LMDDataset(train_samples)\n",
      "File \u001b[0;32m~/autodl-tmp/multipoly/src/data/dataloader.py:55\u001b[0m, in \u001b[0;36m<listcomp>\u001b[0;34m(.0)\u001b[0m\n\u001b[1;32m     52\u001b[0m train_fpaths \u001b[38;5;241m=\u001b[39m all_fpaths[:train_num]\n\u001b[1;32m     53\u001b[0m val_fpaths \u001b[38;5;241m=\u001b[39m all_fpaths[train_num\u001b[38;5;241m+\u001b[39m\u001b[38;5;241m1\u001b[39m:]\n\u001b[0;32m---> 55\u001b[0m train_samples \u001b[38;5;241m=\u001b[39m [\u001b[43mDataSampleNpz\u001b[49m\u001b[43m(\u001b[49m\u001b[43mdata_fpath\u001b[49m\u001b[43m)\u001b[49m \u001b[38;5;28;01mfor\u001b[39;00m data_fpath \u001b[38;5;129;01min\u001b[39;00m train_fpaths]\n\u001b[1;32m     56\u001b[0m val_samples \u001b[38;5;241m=\u001b[39m [DataSampleNpz(data_fpath) \u001b[38;5;28;01mfor\u001b[39;00m data_fpath \u001b[38;5;129;01min\u001b[39;00m val_fpaths]\n\u001b[1;32m     58\u001b[0m train_dataset \u001b[38;5;241m=\u001b[39m LMDDataset(train_samples)\n",
      "File \u001b[0;32m~/autodl-tmp/multipoly/src/data/dataset.py:20\u001b[0m, in \u001b[0;36mDataSampleNpz.__init__\u001b[0;34m(self, data_fpath)\u001b[0m\n\u001b[1;32m     16\u001b[0m \u001b[38;5;28mself\u001b[39m\u001b[38;5;241m.\u001b[39mfpath \u001b[38;5;241m=\u001b[39m data_fpath\n\u001b[1;32m     18\u001b[0m data \u001b[38;5;241m=\u001b[39m np\u001b[38;5;241m.\u001b[39mload(\u001b[38;5;28mself\u001b[39m\u001b[38;5;241m.\u001b[39mfpath, allow_pickle\u001b[38;5;241m=\u001b[39m\u001b[38;5;28;01mTrue\u001b[39;00m)\n\u001b[1;32m     19\u001b[0m \u001b[38;5;28mself\u001b[39m\u001b[38;5;241m.\u001b[39mnotes \u001b[38;5;241m=\u001b[39m np\u001b[38;5;241m.\u001b[39marray(\n\u001b[0;32m---> 20\u001b[0m     \u001b[43mdata\u001b[49m\u001b[43m[\u001b[49m\u001b[38;5;124;43m\"\u001b[39;49m\u001b[38;5;124;43mnotes\u001b[39;49m\u001b[38;5;124;43m\"\u001b[39;49m\u001b[43m]\u001b[49m\n\u001b[1;32m     21\u001b[0m ) \n\u001b[1;32m     22\u001b[0m \u001b[38;5;28mself\u001b[39m\u001b[38;5;241m.\u001b[39mstart_table \u001b[38;5;241m=\u001b[39m data[\u001b[38;5;124m\"\u001b[39m\u001b[38;5;124mstart_table\u001b[39m\u001b[38;5;124m\"\u001b[39m]\n\u001b[1;32m     24\u001b[0m \u001b[38;5;28mself\u001b[39m\u001b[38;5;241m.\u001b[39mdb_pos \u001b[38;5;241m=\u001b[39m data[\u001b[38;5;124m\"\u001b[39m\u001b[38;5;124mdb_pos\u001b[39m\u001b[38;5;124m\"\u001b[39m]\n",
      "File \u001b[0;32m~/miniconda3/envs/poly/lib/python3.10/site-packages/numpy/lib/npyio.py:256\u001b[0m, in \u001b[0;36mNpzFile.__getitem__\u001b[0;34m(self, key)\u001b[0m\n\u001b[1;32m    254\u001b[0m \u001b[38;5;28;01mif\u001b[39;00m magic \u001b[38;5;241m==\u001b[39m \u001b[38;5;28mformat\u001b[39m\u001b[38;5;241m.\u001b[39mMAGIC_PREFIX:\n\u001b[1;32m    255\u001b[0m     \u001b[38;5;28mbytes\u001b[39m \u001b[38;5;241m=\u001b[39m \u001b[38;5;28mself\u001b[39m\u001b[38;5;241m.\u001b[39mzip\u001b[38;5;241m.\u001b[39mopen(key)\n\u001b[0;32m--> 256\u001b[0m     \u001b[38;5;28;01mreturn\u001b[39;00m \u001b[38;5;28;43mformat\u001b[39;49m\u001b[38;5;241;43m.\u001b[39;49m\u001b[43mread_array\u001b[49m\u001b[43m(\u001b[49m\u001b[38;5;28;43mbytes\u001b[39;49m\u001b[43m,\u001b[49m\n\u001b[1;32m    257\u001b[0m \u001b[43m                             \u001b[49m\u001b[43mallow_pickle\u001b[49m\u001b[38;5;241;43m=\u001b[39;49m\u001b[38;5;28;43mself\u001b[39;49m\u001b[38;5;241;43m.\u001b[39;49m\u001b[43mallow_pickle\u001b[49m\u001b[43m,\u001b[49m\n\u001b[1;32m    258\u001b[0m \u001b[43m                             \u001b[49m\u001b[43mpickle_kwargs\u001b[49m\u001b[38;5;241;43m=\u001b[39;49m\u001b[38;5;28;43mself\u001b[39;49m\u001b[38;5;241;43m.\u001b[39;49m\u001b[43mpickle_kwargs\u001b[49m\u001b[43m,\u001b[49m\n\u001b[1;32m    259\u001b[0m \u001b[43m                             \u001b[49m\u001b[43mmax_header_size\u001b[49m\u001b[38;5;241;43m=\u001b[39;49m\u001b[38;5;28;43mself\u001b[39;49m\u001b[38;5;241;43m.\u001b[39;49m\u001b[43mmax_header_size\u001b[49m\u001b[43m)\u001b[49m\n\u001b[1;32m    260\u001b[0m \u001b[38;5;28;01melse\u001b[39;00m:\n\u001b[1;32m    261\u001b[0m     \u001b[38;5;28;01mreturn\u001b[39;00m \u001b[38;5;28mself\u001b[39m\u001b[38;5;241m.\u001b[39mzip\u001b[38;5;241m.\u001b[39mread(key)\n",
      "File \u001b[0;32m~/miniconda3/envs/poly/lib/python3.10/site-packages/numpy/lib/format.py:782\u001b[0m, in \u001b[0;36mread_array\u001b[0;34m(fp, allow_pickle, pickle_kwargs, max_header_size)\u001b[0m\n\u001b[1;32m    777\u001b[0m \u001b[38;5;28;01mif\u001b[39;00m allow_pickle:\n\u001b[1;32m    778\u001b[0m     \u001b[38;5;66;03m# Effectively ignore max_header_size, since `allow_pickle` indicates\u001b[39;00m\n\u001b[1;32m    779\u001b[0m     \u001b[38;5;66;03m# that the input is fully trusted.\u001b[39;00m\n\u001b[1;32m    780\u001b[0m     max_header_size \u001b[38;5;241m=\u001b[39m \u001b[38;5;241m2\u001b[39m\u001b[38;5;241m*\u001b[39m\u001b[38;5;241m*\u001b[39m\u001b[38;5;241m64\u001b[39m\n\u001b[0;32m--> 782\u001b[0m version \u001b[38;5;241m=\u001b[39m \u001b[43mread_magic\u001b[49m\u001b[43m(\u001b[49m\u001b[43mfp\u001b[49m\u001b[43m)\u001b[49m\n\u001b[1;32m    783\u001b[0m _check_version(version)\n\u001b[1;32m    784\u001b[0m shape, fortran_order, dtype \u001b[38;5;241m=\u001b[39m _read_array_header(\n\u001b[1;32m    785\u001b[0m         fp, version, max_header_size\u001b[38;5;241m=\u001b[39mmax_header_size)\n",
      "File \u001b[0;32m~/miniconda3/envs/poly/lib/python3.10/site-packages/numpy/lib/format.py:235\u001b[0m, in \u001b[0;36mread_magic\u001b[0;34m(fp)\u001b[0m\n\u001b[1;32m    223\u001b[0m \u001b[38;5;28;01mdef\u001b[39;00m\u001b[38;5;250m \u001b[39m\u001b[38;5;21mread_magic\u001b[39m(fp):\n\u001b[1;32m    224\u001b[0m \u001b[38;5;250m    \u001b[39m\u001b[38;5;124;03m\"\"\" Read the magic string to get the version of the file format.\u001b[39;00m\n\u001b[1;32m    225\u001b[0m \n\u001b[1;32m    226\u001b[0m \u001b[38;5;124;03m    Parameters\u001b[39;00m\n\u001b[0;32m   (...)\u001b[0m\n\u001b[1;32m    233\u001b[0m \u001b[38;5;124;03m    minor : int\u001b[39;00m\n\u001b[1;32m    234\u001b[0m \u001b[38;5;124;03m    \"\"\"\u001b[39;00m\n\u001b[0;32m--> 235\u001b[0m     magic_str \u001b[38;5;241m=\u001b[39m \u001b[43m_read_bytes\u001b[49m\u001b[43m(\u001b[49m\u001b[43mfp\u001b[49m\u001b[43m,\u001b[49m\u001b[43m \u001b[49m\u001b[43mMAGIC_LEN\u001b[49m\u001b[43m,\u001b[49m\u001b[43m \u001b[49m\u001b[38;5;124;43m\"\u001b[39;49m\u001b[38;5;124;43mmagic string\u001b[39;49m\u001b[38;5;124;43m\"\u001b[39;49m\u001b[43m)\u001b[49m\n\u001b[1;32m    236\u001b[0m     \u001b[38;5;28;01mif\u001b[39;00m magic_str[:\u001b[38;5;241m-\u001b[39m\u001b[38;5;241m2\u001b[39m] \u001b[38;5;241m!=\u001b[39m MAGIC_PREFIX:\n\u001b[1;32m    237\u001b[0m         msg \u001b[38;5;241m=\u001b[39m \u001b[38;5;124m\"\u001b[39m\u001b[38;5;124mthe magic string is not correct; expected \u001b[39m\u001b[38;5;132;01m%r\u001b[39;00m\u001b[38;5;124m, got \u001b[39m\u001b[38;5;132;01m%r\u001b[39;00m\u001b[38;5;124m\"\u001b[39m\n",
      "File \u001b[0;32m~/miniconda3/envs/poly/lib/python3.10/site-packages/numpy/lib/format.py:966\u001b[0m, in \u001b[0;36m_read_bytes\u001b[0;34m(fp, size, error_template)\u001b[0m\n\u001b[1;32m    961\u001b[0m \u001b[38;5;28;01mwhile\u001b[39;00m \u001b[38;5;28;01mTrue\u001b[39;00m:\n\u001b[1;32m    962\u001b[0m     \u001b[38;5;66;03m# io files (default in python3) return None or raise on\u001b[39;00m\n\u001b[1;32m    963\u001b[0m     \u001b[38;5;66;03m# would-block, python2 file will truncate, probably nothing can be\u001b[39;00m\n\u001b[1;32m    964\u001b[0m     \u001b[38;5;66;03m# done about that.  note that regular files can't be non-blocking\u001b[39;00m\n\u001b[1;32m    965\u001b[0m     \u001b[38;5;28;01mtry\u001b[39;00m:\n\u001b[0;32m--> 966\u001b[0m         r \u001b[38;5;241m=\u001b[39m \u001b[43mfp\u001b[49m\u001b[38;5;241;43m.\u001b[39;49m\u001b[43mread\u001b[49m\u001b[43m(\u001b[49m\u001b[43msize\u001b[49m\u001b[43m \u001b[49m\u001b[38;5;241;43m-\u001b[39;49m\u001b[43m \u001b[49m\u001b[38;5;28;43mlen\u001b[39;49m\u001b[43m(\u001b[49m\u001b[43mdata\u001b[49m\u001b[43m)\u001b[49m\u001b[43m)\u001b[49m\n\u001b[1;32m    967\u001b[0m         data \u001b[38;5;241m+\u001b[39m\u001b[38;5;241m=\u001b[39m r\n\u001b[1;32m    968\u001b[0m         \u001b[38;5;28;01mif\u001b[39;00m \u001b[38;5;28mlen\u001b[39m(r) \u001b[38;5;241m==\u001b[39m \u001b[38;5;241m0\u001b[39m \u001b[38;5;129;01mor\u001b[39;00m \u001b[38;5;28mlen\u001b[39m(data) \u001b[38;5;241m==\u001b[39m size:\n",
      "File \u001b[0;32m~/miniconda3/envs/poly/lib/python3.10/zipfile.py:927\u001b[0m, in \u001b[0;36mZipExtFile.read\u001b[0;34m(self, n)\u001b[0m\n\u001b[1;32m    925\u001b[0m \u001b[38;5;28mself\u001b[39m\u001b[38;5;241m.\u001b[39m_offset \u001b[38;5;241m=\u001b[39m \u001b[38;5;241m0\u001b[39m\n\u001b[1;32m    926\u001b[0m \u001b[38;5;28;01mwhile\u001b[39;00m n \u001b[38;5;241m>\u001b[39m \u001b[38;5;241m0\u001b[39m \u001b[38;5;129;01mand\u001b[39;00m \u001b[38;5;129;01mnot\u001b[39;00m \u001b[38;5;28mself\u001b[39m\u001b[38;5;241m.\u001b[39m_eof:\n\u001b[0;32m--> 927\u001b[0m     data \u001b[38;5;241m=\u001b[39m \u001b[38;5;28;43mself\u001b[39;49m\u001b[38;5;241;43m.\u001b[39;49m\u001b[43m_read1\u001b[49m\u001b[43m(\u001b[49m\u001b[43mn\u001b[49m\u001b[43m)\u001b[49m\n\u001b[1;32m    928\u001b[0m     \u001b[38;5;28;01mif\u001b[39;00m n \u001b[38;5;241m<\u001b[39m \u001b[38;5;28mlen\u001b[39m(data):\n\u001b[1;32m    929\u001b[0m         \u001b[38;5;28mself\u001b[39m\u001b[38;5;241m.\u001b[39m_readbuffer \u001b[38;5;241m=\u001b[39m data\n",
      "File \u001b[0;32m~/miniconda3/envs/poly/lib/python3.10/zipfile.py:997\u001b[0m, in \u001b[0;36mZipExtFile._read1\u001b[0;34m(self, n)\u001b[0m\n\u001b[1;32m    995\u001b[0m         data \u001b[38;5;241m+\u001b[39m\u001b[38;5;241m=\u001b[39m \u001b[38;5;28mself\u001b[39m\u001b[38;5;241m.\u001b[39m_read2(n \u001b[38;5;241m-\u001b[39m \u001b[38;5;28mlen\u001b[39m(data))\n\u001b[1;32m    996\u001b[0m \u001b[38;5;28;01melse\u001b[39;00m:\n\u001b[0;32m--> 997\u001b[0m     data \u001b[38;5;241m=\u001b[39m \u001b[38;5;28;43mself\u001b[39;49m\u001b[38;5;241;43m.\u001b[39;49m\u001b[43m_read2\u001b[49m\u001b[43m(\u001b[49m\u001b[43mn\u001b[49m\u001b[43m)\u001b[49m\n\u001b[1;32m    999\u001b[0m \u001b[38;5;28;01mif\u001b[39;00m \u001b[38;5;28mself\u001b[39m\u001b[38;5;241m.\u001b[39m_compress_type \u001b[38;5;241m==\u001b[39m ZIP_STORED:\n\u001b[1;32m   1000\u001b[0m     \u001b[38;5;28mself\u001b[39m\u001b[38;5;241m.\u001b[39m_eof \u001b[38;5;241m=\u001b[39m \u001b[38;5;28mself\u001b[39m\u001b[38;5;241m.\u001b[39m_compress_left \u001b[38;5;241m<\u001b[39m\u001b[38;5;241m=\u001b[39m \u001b[38;5;241m0\u001b[39m\n",
      "File \u001b[0;32m~/miniconda3/envs/poly/lib/python3.10/zipfile.py:1027\u001b[0m, in \u001b[0;36mZipExtFile._read2\u001b[0;34m(self, n)\u001b[0m\n\u001b[1;32m   1024\u001b[0m n \u001b[38;5;241m=\u001b[39m \u001b[38;5;28mmax\u001b[39m(n, \u001b[38;5;28mself\u001b[39m\u001b[38;5;241m.\u001b[39mMIN_READ_SIZE)\n\u001b[1;32m   1025\u001b[0m n \u001b[38;5;241m=\u001b[39m \u001b[38;5;28mmin\u001b[39m(n, \u001b[38;5;28mself\u001b[39m\u001b[38;5;241m.\u001b[39m_compress_left)\n\u001b[0;32m-> 1027\u001b[0m data \u001b[38;5;241m=\u001b[39m \u001b[38;5;28;43mself\u001b[39;49m\u001b[38;5;241;43m.\u001b[39;49m\u001b[43m_fileobj\u001b[49m\u001b[38;5;241;43m.\u001b[39;49m\u001b[43mread\u001b[49m\u001b[43m(\u001b[49m\u001b[43mn\u001b[49m\u001b[43m)\u001b[49m\n\u001b[1;32m   1028\u001b[0m \u001b[38;5;28mself\u001b[39m\u001b[38;5;241m.\u001b[39m_compress_left \u001b[38;5;241m-\u001b[39m\u001b[38;5;241m=\u001b[39m \u001b[38;5;28mlen\u001b[39m(data)\n\u001b[1;32m   1029\u001b[0m \u001b[38;5;28;01mif\u001b[39;00m \u001b[38;5;129;01mnot\u001b[39;00m data:\n",
      "File \u001b[0;32m~/miniconda3/envs/poly/lib/python3.10/zipfile.py:747\u001b[0m, in \u001b[0;36m_SharedFile.read\u001b[0;34m(self, n)\u001b[0m\n\u001b[1;32m    743\u001b[0m     \u001b[38;5;28;01mraise\u001b[39;00m \u001b[38;5;167;01mValueError\u001b[39;00m(\u001b[38;5;124m\"\u001b[39m\u001b[38;5;124mCan\u001b[39m\u001b[38;5;124m'\u001b[39m\u001b[38;5;124mt read from the ZIP file while there \u001b[39m\u001b[38;5;124m\"\u001b[39m\n\u001b[1;32m    744\u001b[0m             \u001b[38;5;124m\"\u001b[39m\u001b[38;5;124mis an open writing handle on it. \u001b[39m\u001b[38;5;124m\"\u001b[39m\n\u001b[1;32m    745\u001b[0m             \u001b[38;5;124m\"\u001b[39m\u001b[38;5;124mClose the writing handle before trying to read.\u001b[39m\u001b[38;5;124m\"\u001b[39m)\n\u001b[1;32m    746\u001b[0m \u001b[38;5;28mself\u001b[39m\u001b[38;5;241m.\u001b[39m_file\u001b[38;5;241m.\u001b[39mseek(\u001b[38;5;28mself\u001b[39m\u001b[38;5;241m.\u001b[39m_pos)\n\u001b[0;32m--> 747\u001b[0m data \u001b[38;5;241m=\u001b[39m \u001b[38;5;28;43mself\u001b[39;49m\u001b[38;5;241;43m.\u001b[39;49m\u001b[43m_file\u001b[49m\u001b[38;5;241;43m.\u001b[39;49m\u001b[43mread\u001b[49m\u001b[43m(\u001b[49m\u001b[43mn\u001b[49m\u001b[43m)\u001b[49m\n\u001b[1;32m    748\u001b[0m \u001b[38;5;28mself\u001b[39m\u001b[38;5;241m.\u001b[39m_pos \u001b[38;5;241m=\u001b[39m \u001b[38;5;28mself\u001b[39m\u001b[38;5;241m.\u001b[39m_file\u001b[38;5;241m.\u001b[39mtell()\n\u001b[1;32m    749\u001b[0m \u001b[38;5;28;01mreturn\u001b[39;00m data\n",
      "\u001b[0;31mKeyboardInterrupt\u001b[0m: "
     ]
    }
   ],
   "source": [
    "from src.data.dataloader import get_train_val_datas\n",
    "train_ds, val_ds,train_dl,val_dl = get_train_val_datas(\n",
    "    train_folder=\"/root/autodl-tmp/multipoly/data/train\",\n",
    "    val_folder=\"/root/autodl-tmp/multipoly/data/val\",\n",
    "    train_bs=7,val_bs=7\n",
    ")\n"
   ]
  },
  {
   "cell_type": "code",
   "execution_count": null,
   "metadata": {},
   "outputs": [],
   "source": [
    "import torch\n",
    "device = torch.device(\"cuda\" if torch.cuda.is_available() else \"cpu\")\n",
    "diffusion = diffusion.to(device)"
   ]
  },
  {
   "cell_type": "code",
   "execution_count": null,
   "metadata": {},
   "outputs": [
    {
     "name": "stdout",
     "output_type": "stream",
     "text": [
      "tensor(0.0012, device='cuda:0', grad_fn=<MseLossBackward0>)\n"
     ]
    }
   ],
   "source": [
    "for x in train_dl:\n",
    "    pr,chord = x\n",
    "    \n",
    "    pr = pr.to(device)\n",
    "    chord = chord.to(device)\n",
    "\n",
    "    loss = diffusion.loss(pr, chord)\n",
    "    print(loss)\n",
    "\n",
    "    break"
   ]
  },
  {
   "cell_type": "code",
   "execution_count": null,
   "metadata": {},
   "outputs": [],
   "source": [
    "# chord_single = chord[4]\n",
    "# chord_single = chord_single.reshape(1,32,36)\n",
    "# print(chord_single.shape)"
   ]
  },
  {
   "cell_type": "code",
   "execution_count": null,
   "metadata": {},
   "outputs": [],
   "source": [
    "bs = 1\n",
    "track_num = 4\n",
    "import torch\n",
    "uncond_cond = torch.randn(1,1,512)\n",
    "\n"
   ]
  },
  {
   "cell_type": "code",
   "execution_count": null,
   "metadata": {},
   "outputs": [],
   "source": [
    "diffusion = diffusion.to(device)\n",
    "uncond_cond = uncond_cond.to(device)\n",
    "# chord_single = chord_single.to(device)\n"
   ]
  },
  {
   "cell_type": "code",
   "execution_count": null,
   "metadata": {},
   "outputs": [],
   "source": [
    "\n",
    "\n",
    "#gen_cond = diffusion.sample([1,4,2,128,128],chord_single,uncond_scale=5.0, uncond_cond=uncond_cond)"
   ]
  },
  {
   "cell_type": "code",
   "execution_count": null,
   "metadata": {},
   "outputs": [
    {
     "name": "stderr",
     "output_type": "stream",
     "text": [
      "100%|██████████| 1000/1000 [00:22<00:00, 44.77it/s]\n"
     ]
    }
   ],
   "source": [
    "gen_uncond = diffusion.sample([1,4,2,128,128],uncond_cond=uncond_cond,uncond_scale=0.0)"
   ]
  },
  {
   "cell_type": "code",
   "execution_count": null,
   "metadata": {},
   "outputs": [
    {
     "name": "stdout",
     "output_type": "stream",
     "text": [
      "torch.Size([1, 4, 2, 128, 128])\n"
     ]
    }
   ],
   "source": [
    "print(gen_uncond.shape)"
   ]
  },
  {
   "cell_type": "code",
   "execution_count": null,
   "metadata": {},
   "outputs": [],
   "source": [
    "import pretty_midi as pm\n",
    "\n",
    "def custom_round(x):\n",
    "    if x > 0.95 and x < 1.05:\n",
    "        return 1\n",
    "    else:\n",
    "        return 0\n",
    "\n",
    "def prmat2c_to_midi_file(\n",
    "    prmat2c, fpath, is_custom_round=True\n",
    "):\n",
    "    print(f\"prmat2c : {prmat2c.shape}\")\n",
    "    midi = pm.PrettyMIDI()\n",
    "    piano_program = pm.instrument_name_to_program(\"Acoustic Grand Piano\")\n",
    "    origin = pm.Instrument(program=piano_program)\n",
    "    t = 0\n",
    "    n_step = prmat2c.shape[2]\n",
    "    t_bar = int(n_step / 8)\n",
    "    for bar_ind, bars in enumerate(prmat2c):\n",
    "        onset = bars[0]\n",
    "        sustain = bars[1]\n",
    "        for step_ind, step in enumerate(onset):\n",
    "            for key, on in enumerate(step):\n",
    "                if is_custom_round:\n",
    "                    on = int(custom_round(on))\n",
    "                else:\n",
    "                    on = int(round(on))\n",
    "                if on > 0:\n",
    "                    dur = 1\n",
    "                    while step_ind + dur < n_step:\n",
    "                        if not (int(round(sustain[step_ind + dur, key])) > 0):\n",
    "                            break\n",
    "                        dur += 1\n",
    "                    note = pm.Note(\n",
    "                        velocity=80,\n",
    "                        pitch=key,\n",
    "                        start=t + step_ind * 1 / 8,\n",
    "                        end=min(t + (step_ind + dur) * 1 / 8, t + t_bar),\n",
    "                    )\n",
    "                    \n",
    "                    origin.notes.append(note)\n",
    "        t += t_bar\n",
    "    midi.instruments.append(origin)\n",
    "    midi.write(fpath)\n",
    "\n",
    "\n",
    "import numpy as np\n",
    "def chd_to_midi_file(chords, output_fpath, one_beat=0.5):\n",
    "    \"\"\"\n",
    "    retrieve midi from chords\n",
    "    \"\"\"\n",
    "    if \"Tensor\" in str(type(chords)):\n",
    "        chords = chords.cpu().detach().numpy()\n",
    "    midi = pm.PrettyMIDI()\n",
    "    piano_program = pm.instrument_name_to_program(\"Acoustic Grand Piano\")\n",
    "    piano = pm.Instrument(program=piano_program)\n",
    "    t = 0.0\n",
    "    for chord in chords:\n",
    "        \n",
    "        if chord.shape[0] == 14:\n",
    "            root = int(chord[0])\n",
    "            chroma = chord[1:13].astype(int)\n",
    "            bass = int(chord[13])\n",
    "        elif chord.shape[0] == 36:\n",
    "            root = int(chord[0:12].argmax())\n",
    "            chroma = chord[12:24].astype(int)\n",
    "            bass = int(chord[24:].argmax())\n",
    "\n",
    "        chroma = np.roll(chroma, -bass)\n",
    "        c3 = 48\n",
    "        for i, n in enumerate(chroma):\n",
    "            if n == 1:\n",
    "                note = pm.Note(\n",
    "                    velocity=80,\n",
    "                    pitch=c3 + i + bass,\n",
    "                    start=t * one_beat,\n",
    "                    end=(t + 1) * one_beat,\n",
    "                )\n",
    "                piano.notes.append(note)\n",
    "        t += 1\n",
    "\n",
    "    midi.instruments.append(piano)\n",
    "    midi.write(output_fpath)\n",
    "\n"
   ]
  },
  {
   "cell_type": "code",
   "execution_count": null,
   "metadata": {},
   "outputs": [
    {
     "name": "stdout",
     "output_type": "stream",
     "text": [
      "prmat2c : (1, 2, 128, 128)\n",
      "prmat2c : (1, 2, 128, 128)\n",
      "prmat2c : (1, 2, 128, 128)\n",
      "prmat2c : (1, 2, 128, 128)\n"
     ]
    }
   ],
   "source": [
    "# chd_to_midi_file(chord_single[0], f\"exp/chord.mid\")\n",
    "\n",
    "for i in range(4):\n",
    "    track_gen = gen_uncond[:,i].cpu().numpy()\n",
    "    prmat2c_to_midi_file(track_gen, f\"exp/diffusion_test_uncond_{i}.mid\")"
   ]
  },
  {
   "cell_type": "code",
   "execution_count": null,
   "metadata": {},
   "outputs": [],
   "source": []
  }
 ],
 "metadata": {
  "kernelspec": {
   "display_name": "poly",
   "language": "python",
   "name": "python3"
  },
  "language_info": {
   "codemirror_mode": {
    "name": "ipython",
    "version": 3
   },
   "file_extension": ".py",
   "mimetype": "text/x-python",
   "name": "python",
   "nbconvert_exporter": "python",
   "pygments_lexer": "ipython3",
   "version": "3.10.13"
  }
 },
 "nbformat": 4,
 "nbformat_minor": 2
}
