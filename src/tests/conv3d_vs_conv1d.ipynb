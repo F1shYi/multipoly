{
 "cells": [
  {
   "cell_type": "markdown",
   "metadata": {},
   "source": [
    "This is to verify that whether conv3d degrades to conv1d when `kernel_width` and `kernel_height` equals 1.\n",
    "\n",
    "If so, we will be only using conv3d in our code since it offers more flexibility that we can choose whether or not to take into account the time and pitch information, simply by setting the `kernel_width` and `kernel_height` to 1 or more than 1, for a larger reception field."
   ]
  },
  {
   "cell_type": "code",
   "execution_count": 36,
   "metadata": {},
   "outputs": [],
   "source": [
    "import torch\n",
    "import torch.nn as nn\n",
    "\n",
    "batch_size = 16\n",
    "in_channels = 2\n",
    "width = 128\n",
    "height = 128\n",
    "track_num = 5\n",
    "input_tensor = torch.randn([batch_size, track_num, in_channels, width, height])"
   ]
  },
  {
   "cell_type": "code",
   "execution_count": 37,
   "metadata": {},
   "outputs": [
    {
     "name": "stdout",
     "output_type": "stream",
     "text": [
      "torch.Size([10, 2, 5, 1, 1]) torch.Size([10, 2, 5])\n",
      "torch.Size([10]) torch.Size([10])\n"
     ]
    }
   ],
   "source": [
    "conv3d = nn.Conv3d(in_channels, in_channels*track_num, (track_num,1,1))\n",
    "conv1d = nn.Conv1d(in_channels, in_channels*track_num, track_num)\n",
    "\n",
    "weight_3d = conv3d.weight\n",
    "weight_1d = conv1d.weight\n",
    "bias_3d = conv3d.bias\n",
    "bias_1d = conv1d.bias\n",
    "\n",
    "print(weight_3d.shape, weight_1d.shape)\n",
    "print(bias_3d.shape, bias_1d.shape)\n",
    "\n",
    "weight_init = torch.randn(weight_3d.shape)\n",
    "bias_init = torch.randn(bias_3d.shape)\n",
    "\n",
    "conv3d.weight.data = weight_init\n",
    "conv3d.bias.data = bias_init\n",
    "conv1d.weight.data = weight_init.reshape(weight_1d.shape)\n",
    "conv1d.bias.data = bias_init.reshape(bias_1d.shape)"
   ]
  },
  {
   "cell_type": "code",
   "execution_count": 38,
   "metadata": {},
   "outputs": [
    {
     "name": "stdout",
     "output_type": "stream",
     "text": [
      "torch.Size([16, 10, 128, 128])\n"
     ]
    }
   ],
   "source": [
    "input_1d = input_tensor.permute(3,4,0,2,1).reshape(-1,in_channels,track_num) # [width*height*batch_size, in_channels, track_num]\n",
    "output_1d = conv1d(input_1d)\n",
    "\n",
    "output_1d = output_1d.reshape(width, height, batch_size, in_channels*track_num)\n",
    "output_1d = output_1d.permute(2,3,0,1) # [batch_size, inchannels*track_num, width, height]\n",
    "print(output_1d.shape)"
   ]
  },
  {
   "cell_type": "code",
   "execution_count": 42,
   "metadata": {},
   "outputs": [
    {
     "name": "stdout",
     "output_type": "stream",
     "text": [
      "torch.Size([16, 10, 128, 128])\n"
     ]
    }
   ],
   "source": [
    "input_3d = input_tensor.permute(0,2,1,3,4)\n",
    "output_3d = conv3d(input_3d)\n",
    "output_3d = output_3d.reshape(batch_size, in_channels*track_num, width, height)\n",
    "print(output_3d.shape)"
   ]
  },
  {
   "cell_type": "code",
   "execution_count": 43,
   "metadata": {},
   "outputs": [],
   "source": [
    "assert torch.allclose(output_1d, output_3d)"
   ]
  }
 ],
 "metadata": {
  "kernelspec": {
   "display_name": "music",
   "language": "python",
   "name": "python3"
  },
  "language_info": {
   "codemirror_mode": {
    "name": "ipython",
    "version": 3
   },
   "file_extension": ".py",
   "mimetype": "text/x-python",
   "name": "python",
   "nbconvert_exporter": "python",
   "pygments_lexer": "ipython3",
   "version": "3.10.15"
  }
 },
 "nbformat": 4,
 "nbformat_minor": 2
}
