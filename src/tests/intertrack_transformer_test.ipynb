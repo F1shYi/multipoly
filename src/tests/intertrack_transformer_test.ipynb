{
 "cells": [
  {
   "cell_type": "code",
   "execution_count": 11,
   "metadata": {},
   "outputs": [],
   "source": [
    "import torch\n",
    "import torch.nn as nn\n",
    "from einops import rearrange\n",
    "batch_size = 16\n",
    "channels = 64\n",
    "width = 16\n",
    "height = 16\n",
    "track_num = 5\n",
    "input_tensor = torch.randn([batch_size, track_num, channels, width, height])\n"
   ]
  },
  {
   "cell_type": "code",
   "execution_count": null,
   "metadata": {},
   "outputs": [],
   "source": [
    "class InterTrackAttention(nn.Module):\n",
    "    def __init__(self, d_intertrack_encoder, n_intertrack_head, d_intertrack_ff, num_intertrack_encoder_layers):\n",
    "        super().__init__()\n",
    "        encoder = nn.TransformerEncoderLayer(d_model=d_intertrack_encoder, nhead=n_intertrack_head, dim_feedforward=d_intertrack_ff, batch_first=True)\n",
    "        self.attention = nn.TransformerEncoder(encoder, num_layers=num_intertrack_encoder_layers)\n",
    "\n",
    "    def forward(self, input_tensor):\n",
    "        '''\n",
    "        Input: a tensor of shape (batch_size, track_num, channels, width, height)\n",
    "        Output: a tensor of shape (batch_size, track_num, channels, width, height)\n",
    "        '''\n",
    "\n",
    "        # Rearrange the input tensor to (N, L, C)\n",
    "        # where N = batch_size * width * height stands for the new batch size for the sequence\n",
    "        # L = track_num stands for the sequence length\n",
    "        # C = channels stands for the number of channels\n",
    "        b, t, c, w, h = input_tensor.shape\n",
    "\n",
    "        input_tensor = rearrange(input_tensor, 'b t c w h -> (b w h) t c')\n",
    "        \n",
    "        # Apply the intertrack attention\n",
    "        output_tensor = input_tensor + self.attention(input_tensor)\n",
    "\n",
    "        # Rearrange the output tensor back to the original shape\n",
    "        output_tensor = rearrange(output_tensor, '(b w h) t c -> b t c w h', b=b, w=w, h=h)\n",
    "\n",
    "        return output_tensor\n",
    "\n",
    "\n",
    "def zero_init(module:nn.Module):\n",
    "    for param in module.parameters():\n",
    "        param.data.fill_(0.)"
   ]
  },
  {
   "cell_type": "code",
   "execution_count": 29,
   "metadata": {},
   "outputs": [
    {
     "name": "stdout",
     "output_type": "stream",
     "text": [
      "torch.Size([16, 5, 64, 16, 16])\n"
     ]
    }
   ],
   "source": [
    "encoder = InterTrackAttention(d_intertrack_encoder=64, n_intertrack_head=8, d_intertrack_ff=128)\n",
    "zero_init(encoder)\n",
    "output_tensor = encoder(input_tensor)\n",
    "print(output_tensor.shape)\n",
    "\n",
    "assert torch.allclose(output_tensor, input_tensor)\n",
    "\n"
   ]
  }
 ],
 "metadata": {
  "kernelspec": {
   "display_name": "music",
   "language": "python",
   "name": "python3"
  },
  "language_info": {
   "codemirror_mode": {
    "name": "ipython",
    "version": 3
   },
   "file_extension": ".py",
   "mimetype": "text/x-python",
   "name": "python",
   "nbconvert_exporter": "python",
   "pygments_lexer": "ipython3",
   "version": "3.10.15"
  }
 },
 "nbformat": 4,
 "nbformat_minor": 2
}
