{
 "cells": [
  {
   "cell_type": "code",
   "execution_count": 7,
   "metadata": {},
   "outputs": [],
   "source": [
    "import os\n",
    "from pathlib import Path\n",
    "\n",
    "def find_files_with_suffix(directory, suffix):\n",
    "  \n",
    "    path = Path(directory)\n",
    "    files = path.rglob(f'*{suffix}')\n",
    "    \n",
    "    return [file for file in files if file.is_file()]\n",
    "\n",
    "directory = 'C:\\Courses\\S6\\multipoly\\data\\lpd_5_cleansed (1)'\n",
    "suffix = '.npz' \n",
    "matching_files = find_files_with_suffix(directory, suffix)\n"
   ]
  },
  {
   "cell_type": "code",
   "execution_count": 8,
   "metadata": {},
   "outputs": [],
   "source": [
    "import muspy\n",
    "import pypianoroll as pr\n",
    "\n",
    "def clean_file(npz_fpath, midi_save_fpath):\n",
    "    multitrack = pr.load(npz_fpath)\n",
    "    music = muspy.from_pypianoroll(multitrack)\n",
    "    if len(music.time_signatures) == 0:\n",
    "        music.time_signatures = [muspy.TimeSignature(0, 4, 4)]\n",
    "    if len(music.tempos) >= 1 or music.tempos[0].qpm != 120:\n",
    "        music.tempos = [muspy.Tempo(0, 120)]\n",
    "    music.adjust_resolution(4)\n",
    "    for track in music.tracks:\n",
    "        for note in track.notes:\n",
    "            \n",
    "            if note.duration == 0:\n",
    "                note.duration = 1\n",
    "    music.write_midi(midi_save_fpath)\n",
    "    "
   ]
  },
  {
   "cell_type": "code",
   "execution_count": 9,
   "metadata": {},
   "outputs": [
    {
     "name": "stderr",
     "output_type": "stream",
     "text": [
      "21425it [1:12:34,  4.92it/s]\n"
     ]
    }
   ],
   "source": [
    "from tqdm import tqdm\n",
    "\n",
    "midi_folder = \"C:\\Courses\\S6\\multipoly\\data\\lpd_5_midi\"\n",
    "\n",
    "for idx, npz_fpath in tqdm(enumerate(matching_files)):\n",
    "    midi_save_fpath = os.path.join(midi_folder, f\"{idx}.mid\")\n",
    "    clean_file(npz_fpath,midi_save_fpath)"
   ]
  }
 ],
 "metadata": {
  "kernelspec": {
   "display_name": "music",
   "language": "python",
   "name": "python3"
  },
  "language_info": {
   "codemirror_mode": {
    "name": "ipython",
    "version": 3
   },
   "file_extension": ".py",
   "mimetype": "text/x-python",
   "name": "python",
   "nbconvert_exporter": "python",
   "pygments_lexer": "ipython3",
   "version": "3.10.15"
  }
 },
 "nbformat": 4,
 "nbformat_minor": 2
}
