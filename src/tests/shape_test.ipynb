{
 "cells": [
  {
   "cell_type": "markdown",
   "metadata": {},
   "source": [
    "import torch\n",
    "from einops import rearrange"
   ]
  },
  {
   "cell_type": "code",
   "execution_count": 1,
   "metadata": {},
   "outputs": [],
   "source": [
    "import torch\n",
    "from einops import rearrange"
   ]
  },
  {
   "cell_type": "code",
   "execution_count": 5,
   "metadata": {},
   "outputs": [
    {
     "name": "stdout",
     "output_type": "stream",
     "text": [
      "tensor([[[ 0],\n",
      "         [ 1],\n",
      "         [ 2],\n",
      "         [ 3]],\n",
      "\n",
      "        [[ 4],\n",
      "         [ 5],\n",
      "         [ 6],\n",
      "         [ 7]],\n",
      "\n",
      "        [[ 8],\n",
      "         [ 9],\n",
      "         [10],\n",
      "         [11]]])\n"
     ]
    }
   ],
   "source": [
    "x = torch.arange(0,12).reshape(3,4,1)\n",
    "print(x)"
   ]
  },
  {
   "cell_type": "code",
   "execution_count": 6,
   "metadata": {},
   "outputs": [
    {
     "name": "stdout",
     "output_type": "stream",
     "text": [
      "tensor([[ 0],\n",
      "        [ 1],\n",
      "        [ 2],\n",
      "        [ 3],\n",
      "        [ 4],\n",
      "        [ 5],\n",
      "        [ 6],\n",
      "        [ 7],\n",
      "        [ 8],\n",
      "        [ 9],\n",
      "        [10],\n",
      "        [11]])\n"
     ]
    }
   ],
   "source": [
    "x = rearrange(x, \"b t c -> (b t) c\")\n",
    "print(x)"
   ]
  },
  {
   "cell_type": "code",
   "execution_count": 8,
   "metadata": {},
   "outputs": [
    {
     "name": "stdout",
     "output_type": "stream",
     "text": [
      "tensor([19,  0,  8])\n",
      "torch.Size([3])\n"
     ]
    }
   ],
   "source": [
    "t = torch.randint(0,20,[3,])\n",
    "print(t)\n",
    "print(t.shape)"
   ]
  },
  {
   "cell_type": "code",
   "execution_count": 13,
   "metadata": {},
   "outputs": [
    {
     "name": "stdout",
     "output_type": "stream",
     "text": [
      "tensor([[19, 19, 19, 19],\n",
      "        [ 0,  0,  0,  0],\n",
      "        [ 8,  8,  8,  8]])\n",
      "torch.Size([3, 4])\n"
     ]
    }
   ],
   "source": [
    "t = t.reshape(-1,1)\n",
    "\n",
    "ts = torch.cat([t]*4,dim=1)\n",
    "print(ts)\n",
    "print(ts.shape)"
   ]
  },
  {
   "cell_type": "code",
   "execution_count": 14,
   "metadata": {},
   "outputs": [],
   "source": [
    "cond = torch.rand(7,1,512)\n",
    "\n",
    "cond_cat = torch.cat([cond]*4, dim=1).reshape(-1,1,512)\n"
   ]
  },
  {
   "cell_type": "code",
   "execution_count": 15,
   "metadata": {},
   "outputs": [
    {
     "name": "stdout",
     "output_type": "stream",
     "text": [
      "torch.Size([28, 1, 512])\n"
     ]
    }
   ],
   "source": [
    "print(cond_cat.shape)"
   ]
  },
  {
   "cell_type": "code",
   "execution_count": 16,
   "metadata": {},
   "outputs": [
    {
     "name": "stdout",
     "output_type": "stream",
     "text": [
      "tensor([[[0.9196, 0.8811, 0.0524,  ..., 0.1269, 0.3690, 0.6117]],\n",
      "\n",
      "        [[0.9196, 0.8811, 0.0524,  ..., 0.1269, 0.3690, 0.6117]],\n",
      "\n",
      "        [[0.9196, 0.8811, 0.0524,  ..., 0.1269, 0.3690, 0.6117]],\n",
      "\n",
      "        ...,\n",
      "\n",
      "        [[0.9853, 0.2799, 0.1747,  ..., 0.9651, 0.6864, 0.8785]],\n",
      "\n",
      "        [[0.9853, 0.2799, 0.1747,  ..., 0.9651, 0.6864, 0.8785]],\n",
      "\n",
      "        [[0.9853, 0.2799, 0.1747,  ..., 0.9651, 0.6864, 0.8785]]])\n"
     ]
    }
   ],
   "source": [
    "print(cond_cat)"
   ]
  }
 ],
 "metadata": {
  "kernelspec": {
   "display_name": "poly",
   "language": "python",
   "name": "python3"
  },
  "language_info": {
   "codemirror_mode": {
    "name": "ipython",
    "version": 3
   },
   "file_extension": ".py",
   "mimetype": "text/x-python",
   "name": "python",
   "nbconvert_exporter": "python",
   "pygments_lexer": "ipython3",
   "version": "3.10.13"
  }
 },
 "nbformat": 4,
 "nbformat_minor": 2
}
