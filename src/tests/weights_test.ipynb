{
 "cells": [
  {
   "cell_type": "markdown",
   "metadata": {},
   "source": [
    "# Weights test\n",
    "\n",
    "This notebook is used for testing whether we have loaded the weights of polyffusion successfully from the polyffusion checkpoints.\n",
    "\n",
    "Code scripts here can be used for partially loading the weights of polyffusion modules."
   ]
  },
  {
   "cell_type": "markdown",
   "metadata": {},
   "source": [
    "# Configs\n"
   ]
  },
  {
   "cell_type": "code",
   "execution_count": 1,
   "metadata": {},
   "outputs": [
    {
     "name": "stdout",
     "output_type": "stream",
     "text": [
      "{'model_name': 'sdf_chd8bar', 'batch_size': 16, 'max_epoch': 100, 'learning_rate': 5e-05, 'max_grad_norm': 10, 'fp16': True, 'num_workers': 4, 'pin_memory': True, 'in_channels': 2, 'out_channels': 2, 'channels': 64, 'attention_levels': [2, 3], 'n_res_blocks': 2, 'channel_multipliers': [1, 2, 4, 4], 'n_heads': 4, 'tf_layers': 1, 'd_cond': 512, 'linear_start': 0.00085, 'linear_end': 0.012, 'n_steps': 1000, 'latent_scaling_factor': 0.18215, 'img_h': 128, 'img_w': 128, 'cond_type': 'chord', 'cond_mode': 'mix', 'use_enc': True, 'chd_n_step': 32, 'chd_input_dim': 36, 'chd_z_input_dim': 512, 'chd_hidden_dim': 512, 'chd_z_dim': 512}\n"
     ]
    }
   ],
   "source": [
    "import os\n",
    "import torch\n",
    "import yaml\n",
    "import sys\n",
    "\n",
    "MULTIPOLY_FOLDER = os.path.dirname(os.path.dirname(os.getcwd()))\n",
    "POLYFFUSION_CKPT_PATH = os.path.join(MULTIPOLY_FOLDER, r\"polyffusion_ckpts\\ldm_chd8bar\\sdf+pop909wm_mix16_chd8bar\\01-11_102022\\chkpts\\weights_best.pt\")\n",
    "POLYFFUSION_PARAMS_PATH = os.path.join(MULTIPOLY_FOLDER, r\"polyffusion_ckpts\\ldm_chd8bar\\sdf+pop909wm_mix16_chd8bar\\01-11_102022\\params.yaml\")\n",
    "CHORD_CKPT_PATH = os.path.join(MULTIPOLY_FOLDER, r\"pretrained\\chd8bar\\weights.pt\")\n",
    "\n",
    "with open(POLYFFUSION_PARAMS_PATH, 'r') as f:\n",
    "    params = yaml.safe_load(f)\n",
    "print(params)\n",
    "\n",
    "polyffusion_checkpoint = torch.load(POLYFFUSION_CKPT_PATH)[\"model\"]\n",
    "chord_checkpoint = torch.load(CHORD_CKPT_PATH)[\"model\"]\n",
    "\n",
    "sys.path.append(MULTIPOLY_FOLDER)"
   ]
  },
  {
   "cell_type": "markdown",
   "metadata": {},
   "source": [
    "## Vanilla\n",
    "\n",
    "Load the weights into the vanilla polyffusion model"
   ]
  },
  {
   "cell_type": "code",
   "execution_count": 2,
   "metadata": {},
   "outputs": [
    {
     "data": {
      "text/plain": [
       "<All keys matched successfully>"
      ]
     },
     "execution_count": 2,
     "metadata": {},
     "output_type": "execute_result"
    }
   ],
   "source": [
    "# Define models according to the settings in `polyffusion_ckpts\\...\\params.yaml`\n",
    "from polyffusion.dl_modules import ChordEncoder, ChordDecoder\n",
    "from polyffusion.stable_diffusion.model.unet import UNetModel\n",
    "from polyffusion.stable_diffusion.latent_diffusion import LatentDiffusion\n",
    "from polyffusion.models.model_sdf import Polyffusion_SDF\n",
    "\n",
    "import inspect\n",
    "\n",
    "chord_enc_params = inspect.signature(ChordEncoder.__init__).parameters\n",
    "chord_enc_params_dict = {key.removeprefix(\"chd_\"):params[key] for key in params if key.removeprefix(\"chd_\") in chord_enc_params}\n",
    "chord_encoder_poly = ChordEncoder(**chord_enc_params_dict)\n",
    "\n",
    "chord_dec_params = inspect.signature(ChordDecoder.__init__).parameters\n",
    "chord_dec_params_dict = {key.removeprefix(\"chd_\"):params[key] for key in params if key.removeprefix(\"chd_\") in chord_dec_params}\n",
    "chord_decoder_poly = ChordDecoder(**chord_dec_params_dict)\n",
    "\n",
    "unet_params = inspect.signature(UNetModel.__init__).parameters\n",
    "unet_params_dict = {key:params[key] for key in params if key in unet_params}\n",
    "unet_poly = UNetModel(**unet_params_dict)\n",
    "\n",
    "ldm_params = inspect.signature(LatentDiffusion.__init__).parameters\n",
    "ldm_params_dict = {key:params[key] for key in params if key in ldm_params}\n",
    "ldm_poly = LatentDiffusion(unet_model=unet_poly, autoencoder=None, **ldm_params_dict)\n",
    "\n",
    "\n",
    "polyffusion_params = inspect.signature(Polyffusion_SDF.__init__).parameters\n",
    "polyffusion_params_dict = {key:params[key] for key in params if key in polyffusion_params}\n",
    "polyffusion = Polyffusion_SDF(ldm=ldm_poly,chord_enc=chord_encoder_poly,chord_dec=chord_decoder_poly,**polyffusion_params_dict)\n",
    "\n",
    "polyffusion.load_state_dict(polyffusion_checkpoint)\n"
   ]
  },
  {
   "cell_type": "markdown",
   "metadata": {},
   "source": [
    "# UNet only\n",
    "\n",
    "Load the UNet weights only. Check if the UNet weights equal to the `eps_model` in the vanilla polyffusion model"
   ]
  },
  {
   "cell_type": "code",
   "execution_count": 3,
   "metadata": {},
   "outputs": [
    {
     "data": {
      "text/plain": [
       "<All keys matched successfully>"
      ]
     },
     "execution_count": 3,
     "metadata": {},
     "output_type": "execute_result"
    }
   ],
   "source": [
    "unet_only = UNetModel(**unet_params_dict)\n",
    "UNET_PREFIX = \"ldm.eps_model.\"\n",
    "unet_state_dict = {key.removeprefix(UNET_PREFIX):value for key,value in polyffusion_checkpoint.items() if key.startswith(UNET_PREFIX)}\n",
    "unet_only.load_state_dict(unet_state_dict)"
   ]
  },
  {
   "cell_type": "code",
   "execution_count": 4,
   "metadata": {},
   "outputs": [],
   "source": [
    "for key in unet_only.state_dict().keys():\n",
    "    assert torch.allclose(unet_only.state_dict()[key],unet_poly.state_dict()[key])"
   ]
  },
  {
   "cell_type": "markdown",
   "metadata": {},
   "source": [
    "# Chord VAE only\n",
    "\n",
    "Load the Chord VAE only. Check if the Chord VAE weights equal to the pretrained Chord VAE in folder `pretrained/`"
   ]
  },
  {
   "cell_type": "code",
   "execution_count": 5,
   "metadata": {},
   "outputs": [
    {
     "data": {
      "text/plain": [
       "<All keys matched successfully>"
      ]
     },
     "execution_count": 5,
     "metadata": {},
     "output_type": "execute_result"
    }
   ],
   "source": [
    "chord_encoder_only = ChordEncoder(**chord_enc_params_dict)\n",
    "CHORD_ENC_PREFIX = \"chord_enc.\"\n",
    "chord_enc_state_dict = {key.removeprefix(CHORD_ENC_PREFIX):value for key,value in polyffusion_checkpoint.items() if key.startswith(CHORD_ENC_PREFIX)}\n",
    "chord_encoder_only.load_state_dict(chord_enc_state_dict)"
   ]
  },
  {
   "cell_type": "code",
   "execution_count": 6,
   "metadata": {},
   "outputs": [
    {
     "data": {
      "text/plain": [
       "<All keys matched successfully>"
      ]
     },
     "execution_count": 6,
     "metadata": {},
     "output_type": "execute_result"
    }
   ],
   "source": [
    "chord_decoder_only = ChordDecoder(**chord_dec_params_dict)\n",
    "CHORD_DEC_PREFIX = \"chord_dec.\"\n",
    "chord_dec_state_dict = {key.removeprefix(CHORD_DEC_PREFIX):value for key,value in polyffusion_checkpoint.items() if key.startswith(CHORD_DEC_PREFIX)}\n",
    "chord_decoder_only.load_state_dict(chord_dec_state_dict)"
   ]
  },
  {
   "cell_type": "code",
   "execution_count": 7,
   "metadata": {},
   "outputs": [],
   "source": [
    "for key in chord_encoder_only.state_dict().keys():\n",
    "    assert torch.allclose(chord_encoder_only.state_dict()[key],chord_encoder_poly.state_dict()[key])"
   ]
  },
  {
   "cell_type": "code",
   "execution_count": 8,
   "metadata": {},
   "outputs": [],
   "source": [
    "for key in chord_decoder_only.state_dict().keys():\n",
    "    assert torch.allclose(chord_decoder_only.state_dict()[key],chord_decoder_poly.state_dict()[key])"
   ]
  }
 ],
 "metadata": {
  "kernelspec": {
   "display_name": "music",
   "language": "python",
   "name": "python3"
  },
  "language_info": {
   "codemirror_mode": {
    "name": "ipython",
    "version": 3
   },
   "file_extension": ".py",
   "mimetype": "text/x-python",
   "name": "python",
   "nbconvert_exporter": "python",
   "pygments_lexer": "ipython3",
   "version": "3.10.15"
  }
 },
 "nbformat": 4,
 "nbformat_minor": 2
}
