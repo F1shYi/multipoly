{
 "cells": [
  {
   "cell_type": "code",
   "execution_count": 3,
   "metadata": {},
   "outputs": [
    {
     "name": "stdout",
     "output_type": "stream",
     "text": [
      "149965\n"
     ]
    }
   ],
   "source": [
    "DATA_PATH = \"data/segments\"\n",
    "import os\n",
    "midi_fpaths = os.listdir(DATA_PATH)\n",
    "print(len(midi_fpaths))"
   ]
  },
  {
   "cell_type": "code",
   "execution_count": 9,
   "metadata": {},
   "outputs": [
    {
     "name": "stderr",
     "output_type": "stream",
     "text": [
      "  0%|          | 0/10000 [00:00<?, ?it/s]"
     ]
    },
    {
     "name": "stderr",
     "output_type": "stream",
     "text": [
      "100%|██████████| 10000/10000 [01:16<00:00, 130.18it/s]\n"
     ]
    }
   ],
   "source": [
    "import muspy\n",
    "from tqdm import tqdm\n",
    "test_num = 10000\n",
    "\n",
    "drums = []\n",
    "piano = []\n",
    "guitar = []\n",
    "bass = []\n",
    "strings = []\n",
    "\n",
    "for fpath in tqdm(midi_fpaths[0:test_num]):\n",
    "    midi_fpath = os.path.join(DATA_PATH, fpath)\n",
    "    music = muspy.read_midi(midi_fpath)\n",
    "    for track in music.tracks:\n",
    "        if track.is_drum:\n",
    "            drums.append(len(track))\n",
    "        elif track.program == 0:\n",
    "            piano.append(len(track))\n",
    "        elif track.program == 24:\n",
    "            guitar.append(len(track))\n",
    "        elif track.program == 32:\n",
    "            bass.append(len(track))\n",
    "        elif track.program == 48:\n",
    "            strings.append(len(strings))\n",
    "        else:\n",
    "            raise ValueError(\"invalid program number\")\n",
    "\n"
   ]
  },
  {
   "cell_type": "code",
   "execution_count": 10,
   "metadata": {},
   "outputs": [
    {
     "name": "stdout",
     "output_type": "stream",
     "text": [
      "piano avg notes count: 93.3577\n",
      "guitar avg notes count: 115.5076\n",
      "bass avg notes count: 38.8402\n",
      "drums avg notes count: 166.7206\n",
      "strings avg notes count: 4999.5\n"
     ]
    }
   ],
   "source": [
    "import numpy as np\n",
    "print(f\"piano avg notes count: {np.mean(piano)}\")\n",
    "print(f\"guitar avg notes count: {np.mean(guitar)}\")\n",
    "print(f\"bass avg notes count: {np.mean(bass)}\")\n",
    "print(f\"drums avg notes count: {np.mean(drums)}\")\n",
    "print(f\"strings avg notes count: {np.mean(strings)}\")\n"
   ]
  },
  {
   "cell_type": "code",
   "execution_count": null,
   "metadata": {},
   "outputs": [],
   "source": []
  }
 ],
 "metadata": {
  "kernelspec": {
   "display_name": "poly",
   "language": "python",
   "name": "python3"
  },
  "language_info": {
   "codemirror_mode": {
    "name": "ipython",
    "version": 3
   },
   "file_extension": ".py",
   "mimetype": "text/x-python",
   "name": "python",
   "nbconvert_exporter": "python",
   "pygments_lexer": "ipython3",
   "version": "3.10.13"
  }
 },
 "nbformat": 4,
 "nbformat_minor": 2
}
