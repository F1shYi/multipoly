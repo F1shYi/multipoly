{
 "cells": [
  {
   "cell_type": "code",
   "execution_count": 14,
   "metadata": {},
   "outputs": [],
   "source": [
    "import numpy as np\n",
    "\n",
    "def onehot_chd_pitch_shift(onehot, shift):\n",
    "    ret = np.zeros_like(onehot)\n",
    "    for i in range(3):\n",
    "        ret[:, 12*i:12*i+12] = np.roll(onehot[:, 12*i:12*i+12], shift=shift, axis=-1)\n",
    "    return ret\n"
   ]
  },
  {
   "cell_type": "code",
   "execution_count": 15,
   "metadata": {},
   "outputs": [],
   "source": [
    "from data.utils import midi_to_one_hot_chd\n",
    "onehot_chord = midi_to_one_hot_chd(midi_fpath=\"test_data/seg_0.mid\",chd_fpath=\"test.out\")"
   ]
  },
  {
   "cell_type": "code",
   "execution_count": 16,
   "metadata": {},
   "outputs": [
    {
     "name": "stdout",
     "output_type": "stream",
     "text": [
      "[[0. 0. 1. ... 0. 0. 0.]\n",
      " [0. 0. 1. ... 0. 0. 0.]\n",
      " [0. 0. 0. ... 0. 0. 0.]\n",
      " ...\n",
      " [0. 0. 0. ... 1. 0. 0.]\n",
      " [0. 0. 0. ... 0. 0. 0.]\n",
      " [0. 0. 0. ... 0. 0. 0.]]\n",
      "(32, 36)\n"
     ]
    }
   ],
   "source": [
    "print(onehot_chord)\n",
    "print(onehot_chord.shape)"
   ]
  },
  {
   "cell_type": "code",
   "execution_count": 17,
   "metadata": {},
   "outputs": [],
   "source": [
    "from data.utils import chd_to_midi_file\n",
    "\n",
    "chd_to_midi_file(onehot_chord, \"test_data/seg_0_chord.mid\")"
   ]
  },
  {
   "cell_type": "code",
   "execution_count": 18,
   "metadata": {},
   "outputs": [],
   "source": [
    "for i in range(-6,6):\n",
    "    shift_i = onehot_chd_pitch_shift(onehot_chord, i)\n",
    "    chd_to_midi_file(shift_i, f\"test_data/seg_0_chord_shift_{i}.mid\")\n"
   ]
  },
  {
   "cell_type": "code",
   "execution_count": 19,
   "metadata": {},
   "outputs": [],
   "source": [
    "from data.utils import pr_mat_pitch_shift\n",
    "# 0 = Bass\n",
    "# 1 = Guitar\n",
    "# 2 = Piano\n",
    "# 3 = String\n",
    "\n",
    "import muspy\n",
    "music = muspy.read_midi(\"test_data/seg_0.mid\")\n",
    "\n",
    "multi_prmat_2c = np.zeros((4,2,128,128))\n",
    "\n",
    "for track in music.tracks:\n",
    "    if track.is_drum:\n",
    "        continue\n",
    "    if track.program == 32:\n",
    "        track_idx = 0\n",
    "    if track.program == 24:\n",
    "        track_idx = 1\n",
    "    if track.program == 0:\n",
    "        track_idx = 2\n",
    "    if track.program == 48:\n",
    "        track_idx = 3\n",
    "\n",
    "    for note in track.notes:\n",
    "        start_time = note.start\n",
    "        duration = note.duration\n",
    "        pitch = note.pitch\n",
    "        multi_prmat_2c[track_idx, 0, start_time, pitch] = 1.0\n",
    "        for d in range(1, duration):\n",
    "            if start_time + d < 128:\n",
    "                multi_prmat_2c[track_idx, 1, start_time + d, pitch] = 1.0"
   ]
  },
  {
   "cell_type": "code",
   "execution_count": 20,
   "metadata": {},
   "outputs": [],
   "source": [
    "from data.utils import prmat2c_to_midi_file\n",
    "for i in range(-6,6):\n",
    "    shift_prmat = pr_mat_pitch_shift(multi_prmat_2c, i)\n",
    "    reduction = np.sum(shift_prmat, axis=0)\n",
    "    prmat2c_to_midi_file(reduction, f\"test_data/seg_0_shift_{i}.mid\")"
   ]
  }
 ],
 "metadata": {
  "kernelspec": {
   "display_name": "poly",
   "language": "python",
   "name": "python3"
  },
  "language_info": {
   "codemirror_mode": {
    "name": "ipython",
    "version": 3
   },
   "file_extension": ".py",
   "mimetype": "text/x-python",
   "name": "python",
   "nbconvert_exporter": "python",
   "pygments_lexer": "ipython3",
   "version": "3.10.13"
  }
 },
 "nbformat": 4,
 "nbformat_minor": 2
}
